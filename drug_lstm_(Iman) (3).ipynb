{
  "cells": [
    {
      "cell_type": "markdown",
      "source": [
        "# Sentiment Analysis of Drug Reviews using LSTM\n",
        "This notebook builds an LSTM model to classify drug reviews as either positive or negative.\n"
      ],
      "metadata": {
        "id": "2F_sWK0bAN_g"
      }
    },
    {
      "cell_type": "markdown",
      "source": [
        "## Install Dependencies\n",
        "Install additional Python libraries required for executing this notebook.\n"
      ],
      "metadata": {
        "id": "FYEl-0iCAd1W"
      }
    },
    {
      "cell_type": "code",
      "execution_count": null,
      "metadata": {
        "id": "QYkKLvwH_VSz",
        "outputId": "711f7f36-e58d-427e-8de3-52a56a5062b7"
      },
      "outputs": [
        {
          "name": "stdout",
          "output_type": "stream",
          "text": [
            "Requirement already satisfied: nltk in /Users/imanhamdan/my_env/lib/python3.12/site-packages (3.9.1)\n",
            "Requirement already satisfied: click in /Users/imanhamdan/my_env/lib/python3.12/site-packages (from nltk) (8.1.7)\n",
            "Requirement already satisfied: joblib in /Users/imanhamdan/my_env/lib/python3.12/site-packages (from nltk) (1.4.2)\n",
            "Requirement already satisfied: regex>=2021.8.3 in /Users/imanhamdan/my_env/lib/python3.12/site-packages (from nltk) (2024.11.6)\n",
            "Requirement already satisfied: tqdm in /Users/imanhamdan/my_env/lib/python3.12/site-packages (from nltk) (4.67.0)\n",
            "\n",
            "\u001b[1m[\u001b[0m\u001b[34;49mnotice\u001b[0m\u001b[1;39;49m]\u001b[0m\u001b[39;49m A new release of pip is available: \u001b[0m\u001b[31;49m24.0\u001b[0m\u001b[39;49m -> \u001b[0m\u001b[32;49m24.3.1\u001b[0m\n",
            "\u001b[1m[\u001b[0m\u001b[34;49mnotice\u001b[0m\u001b[1;39;49m]\u001b[0m\u001b[39;49m To update, run: \u001b[0m\u001b[32;49mpip install --upgrade pip\u001b[0m\n",
            "Requirement already satisfied: seaborn in /Users/imanhamdan/my_env/lib/python3.12/site-packages (0.13.2)\n",
            "Requirement already satisfied: numpy!=1.24.0,>=1.20 in /Users/imanhamdan/my_env/lib/python3.12/site-packages (from seaborn) (2.1.1)\n",
            "Requirement already satisfied: pandas>=1.2 in /Users/imanhamdan/my_env/lib/python3.12/site-packages (from seaborn) (2.2.2)\n",
            "Requirement already satisfied: matplotlib!=3.6.1,>=3.4 in /Users/imanhamdan/my_env/lib/python3.12/site-packages (from seaborn) (3.9.2)\n",
            "Requirement already satisfied: contourpy>=1.0.1 in /Users/imanhamdan/my_env/lib/python3.12/site-packages (from matplotlib!=3.6.1,>=3.4->seaborn) (1.3.0)\n",
            "Requirement already satisfied: cycler>=0.10 in /Users/imanhamdan/my_env/lib/python3.12/site-packages (from matplotlib!=3.6.1,>=3.4->seaborn) (0.12.1)\n",
            "Requirement already satisfied: fonttools>=4.22.0 in /Users/imanhamdan/my_env/lib/python3.12/site-packages (from matplotlib!=3.6.1,>=3.4->seaborn) (4.53.1)\n",
            "Requirement already satisfied: kiwisolver>=1.3.1 in /Users/imanhamdan/my_env/lib/python3.12/site-packages (from matplotlib!=3.6.1,>=3.4->seaborn) (1.4.7)\n",
            "Requirement already satisfied: packaging>=20.0 in /Users/imanhamdan/my_env/lib/python3.12/site-packages (from matplotlib!=3.6.1,>=3.4->seaborn) (24.1)\n",
            "Requirement already satisfied: pillow>=8 in /Users/imanhamdan/my_env/lib/python3.12/site-packages (from matplotlib!=3.6.1,>=3.4->seaborn) (10.4.0)\n",
            "Requirement already satisfied: pyparsing>=2.3.1 in /Users/imanhamdan/my_env/lib/python3.12/site-packages (from matplotlib!=3.6.1,>=3.4->seaborn) (3.1.4)\n",
            "Requirement already satisfied: python-dateutil>=2.7 in /Users/imanhamdan/my_env/lib/python3.12/site-packages (from matplotlib!=3.6.1,>=3.4->seaborn) (2.9.0.post0)\n",
            "Requirement already satisfied: pytz>=2020.1 in /Users/imanhamdan/my_env/lib/python3.12/site-packages (from pandas>=1.2->seaborn) (2024.2)\n",
            "Requirement already satisfied: tzdata>=2022.7 in /Users/imanhamdan/my_env/lib/python3.12/site-packages (from pandas>=1.2->seaborn) (2024.1)\n",
            "Requirement already satisfied: six>=1.5 in /Users/imanhamdan/my_env/lib/python3.12/site-packages (from python-dateutil>=2.7->matplotlib!=3.6.1,>=3.4->seaborn) (1.16.0)\n",
            "\n",
            "\u001b[1m[\u001b[0m\u001b[34;49mnotice\u001b[0m\u001b[1;39;49m]\u001b[0m\u001b[39;49m A new release of pip is available: \u001b[0m\u001b[31;49m24.0\u001b[0m\u001b[39;49m -> \u001b[0m\u001b[32;49m24.3.1\u001b[0m\n",
            "\u001b[1m[\u001b[0m\u001b[34;49mnotice\u001b[0m\u001b[1;39;49m]\u001b[0m\u001b[39;49m To update, run: \u001b[0m\u001b[32;49mpip install --upgrade pip\u001b[0m\n",
            "Requirement already satisfied: matplotlib in /Users/imanhamdan/my_env/lib/python3.12/site-packages (3.9.2)\n",
            "Requirement already satisfied: contourpy>=1.0.1 in /Users/imanhamdan/my_env/lib/python3.12/site-packages (from matplotlib) (1.3.0)\n",
            "Requirement already satisfied: cycler>=0.10 in /Users/imanhamdan/my_env/lib/python3.12/site-packages (from matplotlib) (0.12.1)\n",
            "Requirement already satisfied: fonttools>=4.22.0 in /Users/imanhamdan/my_env/lib/python3.12/site-packages (from matplotlib) (4.53.1)\n",
            "Requirement already satisfied: kiwisolver>=1.3.1 in /Users/imanhamdan/my_env/lib/python3.12/site-packages (from matplotlib) (1.4.7)\n",
            "Requirement already satisfied: numpy>=1.23 in /Users/imanhamdan/my_env/lib/python3.12/site-packages (from matplotlib) (2.1.1)\n",
            "Requirement already satisfied: packaging>=20.0 in /Users/imanhamdan/my_env/lib/python3.12/site-packages (from matplotlib) (24.1)\n",
            "Requirement already satisfied: pillow>=8 in /Users/imanhamdan/my_env/lib/python3.12/site-packages (from matplotlib) (10.4.0)\n",
            "Requirement already satisfied: pyparsing>=2.3.1 in /Users/imanhamdan/my_env/lib/python3.12/site-packages (from matplotlib) (3.1.4)\n",
            "Requirement already satisfied: python-dateutil>=2.7 in /Users/imanhamdan/my_env/lib/python3.12/site-packages (from matplotlib) (2.9.0.post0)\n",
            "Requirement already satisfied: six>=1.5 in /Users/imanhamdan/my_env/lib/python3.12/site-packages (from python-dateutil>=2.7->matplotlib) (1.16.0)\n",
            "\n",
            "\u001b[1m[\u001b[0m\u001b[34;49mnotice\u001b[0m\u001b[1;39;49m]\u001b[0m\u001b[39;49m A new release of pip is available: \u001b[0m\u001b[31;49m24.0\u001b[0m\u001b[39;49m -> \u001b[0m\u001b[32;49m24.3.1\u001b[0m\n",
            "\u001b[1m[\u001b[0m\u001b[34;49mnotice\u001b[0m\u001b[1;39;49m]\u001b[0m\u001b[39;49m To update, run: \u001b[0m\u001b[32;49mpip install --upgrade pip\u001b[0m\n",
            "Requirement already satisfied: tqdm in /Users/imanhamdan/my_env/lib/python3.12/site-packages (4.67.0)\n",
            "\n",
            "\u001b[1m[\u001b[0m\u001b[34;49mnotice\u001b[0m\u001b[1;39;49m]\u001b[0m\u001b[39;49m A new release of pip is available: \u001b[0m\u001b[31;49m24.0\u001b[0m\u001b[39;49m -> \u001b[0m\u001b[32;49m24.3.1\u001b[0m\n",
            "\u001b[1m[\u001b[0m\u001b[34;49mnotice\u001b[0m\u001b[1;39;49m]\u001b[0m\u001b[39;49m To update, run: \u001b[0m\u001b[32;49mpip install --upgrade pip\u001b[0m\n",
            "Requirement already satisfied: torch in /Users/imanhamdan/my_env/lib/python3.12/site-packages (2.5.1)\n",
            "Requirement already satisfied: torchvision in /Users/imanhamdan/my_env/lib/python3.12/site-packages (0.20.1)\n",
            "Requirement already satisfied: filelock in /Users/imanhamdan/my_env/lib/python3.12/site-packages (from torch) (3.16.1)\n",
            "Requirement already satisfied: typing-extensions>=4.8.0 in /Users/imanhamdan/my_env/lib/python3.12/site-packages (from torch) (4.12.2)\n",
            "Requirement already satisfied: networkx in /Users/imanhamdan/my_env/lib/python3.12/site-packages (from torch) (3.4.2)\n",
            "Requirement already satisfied: jinja2 in /Users/imanhamdan/my_env/lib/python3.12/site-packages (from torch) (3.1.4)\n",
            "Requirement already satisfied: fsspec in /Users/imanhamdan/my_env/lib/python3.12/site-packages (from torch) (2024.10.0)\n",
            "Requirement already satisfied: setuptools in /Users/imanhamdan/my_env/lib/python3.12/site-packages (from torch) (75.6.0)\n",
            "Requirement already satisfied: sympy==1.13.1 in /Users/imanhamdan/my_env/lib/python3.12/site-packages (from torch) (1.13.1)\n",
            "Requirement already satisfied: mpmath<1.4,>=1.1.0 in /Users/imanhamdan/my_env/lib/python3.12/site-packages (from sympy==1.13.1->torch) (1.3.0)\n",
            "Requirement already satisfied: numpy in /Users/imanhamdan/my_env/lib/python3.12/site-packages (from torchvision) (2.1.1)\n",
            "Requirement already satisfied: pillow!=8.3.*,>=5.3.0 in /Users/imanhamdan/my_env/lib/python3.12/site-packages (from torchvision) (10.4.0)\n",
            "Requirement already satisfied: MarkupSafe>=2.0 in /Users/imanhamdan/my_env/lib/python3.12/site-packages (from jinja2->torch) (3.0.2)\n",
            "\n",
            "\u001b[1m[\u001b[0m\u001b[34;49mnotice\u001b[0m\u001b[1;39;49m]\u001b[0m\u001b[39;49m A new release of pip is available: \u001b[0m\u001b[31;49m24.0\u001b[0m\u001b[39;49m -> \u001b[0m\u001b[32;49m24.3.1\u001b[0m\n",
            "\u001b[1m[\u001b[0m\u001b[34;49mnotice\u001b[0m\u001b[1;39;49m]\u001b[0m\u001b[39;49m To update, run: \u001b[0m\u001b[32;49mpip install --upgrade pip\u001b[0m\n",
            "Requirement already satisfied: scikit-learn in /Users/imanhamdan/my_env/lib/python3.12/site-packages (1.5.2)\n",
            "Requirement already satisfied: numpy>=1.19.5 in /Users/imanhamdan/my_env/lib/python3.12/site-packages (from scikit-learn) (2.1.1)\n",
            "Requirement already satisfied: scipy>=1.6.0 in /Users/imanhamdan/my_env/lib/python3.12/site-packages (from scikit-learn) (1.14.1)\n",
            "Requirement already satisfied: joblib>=1.2.0 in /Users/imanhamdan/my_env/lib/python3.12/site-packages (from scikit-learn) (1.4.2)\n",
            "Requirement already satisfied: threadpoolctl>=3.1.0 in /Users/imanhamdan/my_env/lib/python3.12/site-packages (from scikit-learn) (3.5.0)\n",
            "\n",
            "\u001b[1m[\u001b[0m\u001b[34;49mnotice\u001b[0m\u001b[1;39;49m]\u001b[0m\u001b[39;49m A new release of pip is available: \u001b[0m\u001b[31;49m24.0\u001b[0m\u001b[39;49m -> \u001b[0m\u001b[32;49m24.3.1\u001b[0m\n",
            "\u001b[1m[\u001b[0m\u001b[34;49mnotice\u001b[0m\u001b[1;39;49m]\u001b[0m\u001b[39;49m To update, run: \u001b[0m\u001b[32;49mpip install --upgrade pip\u001b[0m\n"
          ]
        }
      ],
      "source": [
        "!pip install nltk\n",
        "!pip install seaborn\n",
        "!pip install matplotlib\n",
        "!pip install tqdm\n",
        "!pip install torch torchvision\n",
        "!pip install scikit-learn"
      ]
    },
    {
      "cell_type": "markdown",
      "source": [
        "## Import Libraries\n",
        "Import all the necessary libraries for data processing, modeling, and visualization.\n"
      ],
      "metadata": {
        "id": "7-0wN07eAqBT"
      }
    },
    {
      "cell_type": "code",
      "source": [
        "import os\n",
        "import torch\n",
        "import pandas as pd\n",
        "import numpy as np\n",
        "import matplotlib.pyplot as plt\n",
        "import seaborn as sns\n",
        "from torch.utils.data import Dataset, DataLoader\n",
        "from sklearn.model_selection import train_test_split\n",
        "from nltk.corpus import stopwords\n",
        "from nltk.tokenize import word_tokenize\n",
        "import re\n",
        "from collections import Counter\n"
      ],
      "metadata": {
        "id": "I_VQzdADAtSm"
      },
      "execution_count": null,
      "outputs": []
    },
    {
      "cell_type": "markdown",
      "source": [
        "## Download NLTK Resources\n",
        "We need to download necessary NLTK data like stopwords and tokenizer.\n"
      ],
      "metadata": {
        "id": "UfuVC10iA6An"
      }
    },
    {
      "cell_type": "code",
      "execution_count": null,
      "metadata": {
        "id": "Fdl85N0O_VS2",
        "outputId": "9ee68b1a-8f93-4a77-e857-87472cbd585d"
      },
      "outputs": [
        {
          "name": "stderr",
          "output_type": "stream",
          "text": [
            "[nltk_data] Downloading package stopwords to\n",
            "[nltk_data]     /Users/imanhamdan/nltk_data...\n",
            "[nltk_data]   Package stopwords is already up-to-date!\n",
            "[nltk_data] Downloading package punkt to\n",
            "[nltk_data]     /Users/imanhamdan/nltk_data...\n",
            "[nltk_data]   Package punkt is already up-to-date!\n"
          ]
        },
        {
          "data": {
            "text/plain": [
              "True"
            ]
          },
          "execution_count": 53,
          "metadata": {},
          "output_type": "execute_result"
        }
      ],
      "source": [
        "import nltk\n",
        "nltk.download('stopwords')\n",
        "nltk.download('punkt')"
      ]
    },
    {
      "cell_type": "code",
      "execution_count": null,
      "metadata": {
        "id": "gdv9pWu7_VS2",
        "outputId": "df7f1867-a0d5-4abd-ad2a-12cc331809ce"
      },
      "outputs": [
        {
          "name": "stderr",
          "output_type": "stream",
          "text": [
            "[nltk_data] Downloading package stopwords to\n",
            "[nltk_data]     /Users/imanhamdan/nltk_data...\n",
            "[nltk_data]   Package stopwords is already up-to-date!\n",
            "[nltk_data] Downloading package punkt to\n",
            "[nltk_data]     /Users/imanhamdan/nltk_data...\n",
            "[nltk_data]   Package punkt is already up-to-date!\n"
          ]
        },
        {
          "data": {
            "text/plain": [
              "True"
            ]
          },
          "execution_count": 54,
          "metadata": {},
          "output_type": "execute_result"
        }
      ],
      "source": [
        "import torch\n",
        "import torch.nn as nn\n",
        "import torch.nn.functional as F\n",
        "from torch.utils.data import TensorDataset, DataLoader\n",
        "from tqdm import tqdm\n",
        "from sklearn.utils import resample\n",
        "from nltk.corpus import stopwords\n",
        "from sklearn.model_selection import train_test_split\n",
        "from nltk.tokenize import word_tokenize\n",
        "import re\n",
        "import sys\n",
        "import matplotlib.pyplot as plt\n",
        "import seaborn as sns\n",
        "import pandas as pd\n",
        "import numpy as np\n",
        "\n",
        "# Download required NLTK data (run once)\n",
        "import nltk\n",
        "nltk.download('stopwords')\n",
        "nltk.download('punkt')"
      ]
    },
    {
      "cell_type": "code",
      "execution_count": null,
      "metadata": {
        "id": "CxK09hHf_VS3",
        "outputId": "4cf30da0-ed18-436f-d0ff-522a7da3bf05"
      },
      "outputs": [
        {
          "name": "stdout",
          "output_type": "stream",
          "text": [
            "False\n"
          ]
        }
      ],
      "source": [
        "is_cuda = torch.cuda.is_available()\n",
        "\n",
        "if is_cuda:\n",
        "    device = torch.device(\"cuda\")\n",
        "else:\n",
        "    device = torch.device(\"cpu\")\n",
        "\n",
        "print(is_cuda)"
      ]
    },
    {
      "cell_type": "markdown",
      "source": [
        "## Load and Preprocess Data\n",
        "Load the training and test datasets, and preprocess them by cleaning text and balancing classes.\n"
      ],
      "metadata": {
        "id": "FwBTPO00BHCC"
      }
    },
    {
      "cell_type": "code",
      "execution_count": null,
      "metadata": {
        "id": "vVlroT-L_VS3",
        "outputId": "c21e702e-be59-4020-841a-06082f015487"
      },
      "outputs": [
        {
          "name": "stderr",
          "output_type": "stream",
          "text": [
            "<>:5: SyntaxWarning: invalid escape sequence '\\d'\n",
            "<>:6: SyntaxWarning: invalid escape sequence '\\d'\n",
            "<>:5: SyntaxWarning: invalid escape sequence '\\d'\n",
            "<>:6: SyntaxWarning: invalid escape sequence '\\d'\n",
            "/var/folders/9d/8ldx6syj5ms3xms5s9mybtkc0000gn/T/ipykernel_3219/2993108983.py:5: SyntaxWarning: invalid escape sequence '\\d'\n",
            "  df_train = pd.read_csv(cwd + \"\\data\\drugsComTrain_raw.tsv\", sep='\\t')\n",
            "/var/folders/9d/8ldx6syj5ms3xms5s9mybtkc0000gn/T/ipykernel_3219/2993108983.py:6: SyntaxWarning: invalid escape sequence '\\d'\n",
            "  df_test = pd.read_csv(cwd + \"\\data\\drugsComTest_raw.tsv\", sep='\\t')\n"
          ]
        }
      ],
      "source": [
        "def get_train_test(balance):\n",
        "    cwd = os.getcwd()\n",
        "    # print(cwd)\n",
        "\n",
        "    df_train = pd.read_csv(cwd + \"\\data\\drugsComTrain_raw.tsv\", sep='\\t')\n",
        "    df_test = pd.read_csv(cwd + \"\\data\\drugsComTest_raw.tsv\", sep='\\t')\n",
        "\n",
        "    df_list = [df_train, df_test]\n",
        "\n",
        "    # print(f\"train_len={train_len} test_len={test_len} df_len={len(df)}\")\n",
        "    print(df_train.columns)\n",
        "\n",
        "    df_train['drugName'] = df_train['drugName'].str.upper()\n",
        "    number_of_drugs = len(df_train['drugName'].unique())\n",
        "    print(f\"Number of drugs = {number_of_drugs}\")\n",
        "\n",
        "    df_train['condition'] = df_train['condition'].str.upper()\n",
        "    number_of_drugs = len(df_train['condition'].unique())\n",
        "    print(f\"Number of condition = {number_of_drugs}\")\n",
        "\n",
        "    # Generate columns for review length and positive reviews.  If the rating is greater than 7 of 10, assume it is positive\n",
        "    for df in df_list:\n",
        "        df['review_len'] = df['review'].str.len()\n",
        "        df['is_positive'] = np.where(df['rating'] > 7, 1, 0)\n",
        "\n",
        "    if balance:\n",
        "        df_train = balance_class(df_train, 'is_positive')\n",
        "        df_test = balance_class(df_test, 'is_positive')\n",
        "    return df_train, df_test\n",
        "\n",
        "def balance_class(df, colname):\n",
        "    class1 = df[df[colname] == 1].copy()\n",
        "    class2 = df[df[colname] == 0].copy()\n",
        "\n",
        "    if len(class1) > len(class2):\n",
        "        maj_class = class1\n",
        "        min_class = class2\n",
        "    else:\n",
        "        maj_class = class2\n",
        "        min_class = class1\n",
        "\n",
        "    maj_downsample = resample(maj_class, replace=False, n_samples=len(min_class), random_state=0)\n",
        "\n",
        "    df_balanced = pd.concat([min_class, maj_downsample])\n",
        "    return df_balanced"
      ]
    },
    {
      "cell_type": "code",
      "execution_count": null,
      "metadata": {
        "id": "NblYteJZ_VS3"
      },
      "outputs": [],
      "source": [
        "import os"
      ]
    },
    {
      "cell_type": "code",
      "execution_count": null,
      "metadata": {
        "id": "QlDGxM3-_VS4",
        "outputId": "f41a128a-de67-4f23-dea3-0dc9bd5999a2"
      },
      "outputs": [
        {
          "name": "stderr",
          "output_type": "stream",
          "text": [
            "<>:7: SyntaxWarning: invalid escape sequence '\\d'\n",
            "<>:7: SyntaxWarning: invalid escape sequence '\\d'\n",
            "/var/folders/9d/8ldx6syj5ms3xms5s9mybtkc0000gn/T/ipykernel_3219/3114962087.py:7: SyntaxWarning: invalid escape sequence '\\d'\n",
            "  df_train = pd.read_csv(cwd + \"\\data\\drugsComTrain_raw.tsv\", sep='\\t')\n"
          ]
        }
      ],
      "source": [
        "import os  # Add this import\n",
        "import pandas as pd\n",
        "# ... your other imports ...\n",
        "\n",
        "def get_train_test(balance):\n",
        "    cwd = os.getcwd()\n",
        "    df_train = pd.read_csv(cwd + \"\\data\\drugsComTrain_raw.tsv\", sep='\\t')\n",
        "    # rest of your function"
      ]
    },
    {
      "cell_type": "code",
      "execution_count": null,
      "metadata": {
        "id": "maV7K_Bz_VS4"
      },
      "outputs": [],
      "source": [
        "def get_train_test(balance):\n",
        "    cwd = os.getcwd()\n",
        "    data_path = os.path.join(cwd, \"data\", \"drugsComTrain_raw.tsv\")\n",
        "    df_train = pd.read_csv(data_path, sep='\\t')\n",
        "    # rest of your function"
      ]
    },
    {
      "cell_type": "code",
      "execution_count": null,
      "metadata": {
        "id": "9KLh2h5S_VS4",
        "outputId": "ebdecc18-a923-4494-a28a-b8d6eb24a3e5"
      },
      "outputs": [
        {
          "name": "stderr",
          "output_type": "stream",
          "text": [
            "<>:7: SyntaxWarning: invalid escape sequence '\\d'\n",
            "<>:7: SyntaxWarning: invalid escape sequence '\\d'\n",
            "/var/folders/9d/8ldx6syj5ms3xms5s9mybtkc0000gn/T/ipykernel_3219/3114962087.py:7: SyntaxWarning: invalid escape sequence '\\d'\n",
            "  df_train = pd.read_csv(cwd + \"\\data\\drugsComTrain_raw.tsv\", sep='\\t')\n"
          ]
        }
      ],
      "source": [
        "import os  # Add this import\n",
        "import pandas as pd\n",
        "# ... your other imports ...\n",
        "\n",
        "def get_train_test(balance):\n",
        "    cwd = os.getcwd()\n",
        "    df_train = pd.read_csv(cwd + \"\\data\\drugsComTrain_raw.tsv\", sep='\\t')\n",
        "    # rest of your function"
      ]
    },
    {
      "cell_type": "markdown",
      "source": [
        "## Data Cleaning\n",
        "Define functions to clean the text data by removing punctuation, digits, and other unnecessary characters.\n"
      ],
      "metadata": {
        "id": "YJe34BkDBZC8"
      }
    },
    {
      "cell_type": "code",
      "execution_count": null,
      "metadata": {
        "id": "U7tyickF_VS5"
      },
      "outputs": [],
      "source": [
        "import pandas as pd\n",
        "import os\n",
        "import nltk\n",
        "from nltk.corpus import stopwords\n",
        "\n",
        "# First, load the data\n",
        "def get_train_test():\n",
        "    cwd = os.getcwd()\n",
        "    df_train = pd.read_csv(os.path.join(cwd, \"data\", \"drugsComTrain_raw.tsv\"), sep='\\t')\n",
        "    df_test = pd.read_csv(os.path.join(cwd, \"data\", \"drugsComTest_raw.tsv\"), sep='\\t')\n",
        "    return df_train, df_test\n",
        "\n",
        "# Load the data\n",
        "df_train, df_test = get_train_test()\n",
        "\n",
        "# Clean text function\n",
        "def clean_text(text):\n",
        "    # Your clean_text implementation here\n",
        "    cleaned_text = str(text).lower()\n",
        "    # Add any other cleaning steps\n",
        "    return cleaned_text\n",
        "\n",
        "# Create corpus from training data\n",
        "corpus = []\n",
        "for review in df_train['review']:\n",
        "    words = str(review).lower().split()\n",
        "    corpus.extend(words)\n",
        "\n",
        "# Create a dictionary with word being the key and value being the rank\n",
        "oh_dict = {}\n",
        "for word_count, word in enumerate(corpus):\n",
        "    oh_dict[word[0]] = word_count + 1\n",
        "\n",
        "word_list_train = []\n",
        "word_list_test = []\n",
        "\n",
        "# Process training data\n",
        "for line in df_train['review']:\n",
        "    line_tokens = []\n",
        "    for word in line.split():\n",
        "        if clean_text(word) in oh_dict.keys():\n",
        "            line_tokens.append(oh_dict[clean_text(word)])\n",
        "    word_list_train.append(line_tokens)\n",
        "\n",
        "# Process test data\n",
        "for line in df_test['review']:\n",
        "    line_tokens = []\n",
        "    for word in line.split():\n",
        "        if clean_text(word) in oh_dict.keys():\n",
        "            line_tokens.append(oh_dict[clean_text(word)])\n",
        "    word_list_test.append(line_tokens)"
      ]
    },
    {
      "cell_type": "code",
      "execution_count": null,
      "metadata": {
        "id": "sQBMonLi_VS5",
        "outputId": "8c0c8ea0-8397-4615-9563-d01ea292fb7f"
      },
      "outputs": [
        {
          "name": "stderr",
          "output_type": "stream",
          "text": [
            "[nltk_data] Downloading package stopwords to\n",
            "[nltk_data]     /Users/imanhamdan/nltk_data...\n",
            "[nltk_data]   Package stopwords is already up-to-date!\n"
          ]
        },
        {
          "name": "stdout",
          "output_type": "stream",
          "text": [
            "Vocabulary size: 10000\n",
            "Number of training sequences: 161297\n",
            "Number of test sequences: 53766\n"
          ]
        }
      ],
      "source": [
        "import pandas as pd\n",
        "import os\n",
        "import re\n",
        "from collections import Counter\n",
        "from nltk.corpus import stopwords\n",
        "import nltk\n",
        "\n",
        "# Download required NLTK data\n",
        "nltk.download('stopwords')\n",
        "\n",
        "# Load the data first\n",
        "def get_train_test():\n",
        "    cwd = os.getcwd()\n",
        "    df_train = pd.read_csv(os.path.join(cwd, \"data\", \"drugsComTrain_raw.tsv\"), sep='\\t')\n",
        "    df_test = pd.read_csv(os.path.join(cwd, \"data\", \"drugsComTest_raw.tsv\"), sep='\\t')\n",
        "    return df_train, df_test\n",
        "\n",
        "# Get the data\n",
        "df_train, df_test = get_train_test()\n",
        "\n",
        "def clean_text(text):\n",
        "    # Remove punctuation\n",
        "    cleaned_text = re.sub(r'[^\\w\\s]', '', text)\n",
        "    # Remove extra whitespace\n",
        "    cleaned_text = re.sub(r\"\\s+\", '', cleaned_text)\n",
        "    # Remove digits\n",
        "    cleaned_text = re.sub(r\"\\d\", '', cleaned_text)\n",
        "    return cleaned_text\n",
        "\n",
        "# Set column to lower case\n",
        "df_train['review'] = df_train['review'].str.lower()\n",
        "df_test['review'] = df_test['review'].str.lower()\n",
        "\n",
        "# Get stop words from NLTK\n",
        "stop_words = set(stopwords.words('english'))\n",
        "word_list = []\n",
        "\n",
        "# Concat all rows to single line\n",
        "all_lines = df_train['review'].str.cat()\n",
        "for word in all_lines.split():\n",
        "    # Clean words\n",
        "    word = clean_text(word)\n",
        "    # If word not a stop word or removed in cleaning\n",
        "    if word not in stop_words and word != '':\n",
        "        # Add to list of words\n",
        "        word_list.append(word)\n",
        "\n",
        "# Get the 10,000 most common words\n",
        "corpus = Counter(word_list).most_common(10000)\n",
        "\n",
        "# Create a dictionary with the word being the key and value being the rank\n",
        "oh_dict = {}\n",
        "for word_count, word in enumerate(corpus):\n",
        "    oh_dict[word[0]] = word_count + 1\n",
        "\n",
        "# Process training and test data\n",
        "word_list_train = []\n",
        "word_list_test = []\n",
        "\n",
        "# Process training data\n",
        "for line in df_train['review']:\n",
        "    line_tokens = []\n",
        "    for word in line.split():\n",
        "        if clean_text(word) in oh_dict.keys():\n",
        "            line_tokens.append(oh_dict[clean_text(word)])\n",
        "    word_list_train.append(line_tokens)\n",
        "\n",
        "# Process test data\n",
        "for line in df_test['review']:\n",
        "    line_tokens = []\n",
        "    for word in line.split():\n",
        "        if clean_text(word) in oh_dict.keys():\n",
        "            line_tokens.append(oh_dict[clean_text(word)])\n",
        "    word_list_test.append(line_tokens)\n",
        "\n",
        "# Print some statistics to verify\n",
        "print(f\"Vocabulary size: {len(oh_dict)}\")\n",
        "print(f\"Number of training sequences: {len(word_list_train)}\")\n",
        "print(f\"Number of test sequences: {len(word_list_test)}\")"
      ]
    },
    {
      "cell_type": "code",
      "execution_count": null,
      "metadata": {
        "id": "FSVomHQg_VS6",
        "outputId": "ec7b9c46-32d8-432d-8e91-aa803387690e"
      },
      "outputs": [
        {
          "name": "stdout",
          "output_type": "stream",
          "text": [
            "padding_ceil=300\n",
            "y_train.mean()=0.50000\n",
            "y_test.mean()=0.50000\n"
          ]
        }
      ],
      "source": [
        "word_len = []\n",
        "for i in word_list_train:\n",
        "    word_len.append(len(i))\n",
        "\n",
        "for i in word_list_test:\n",
        "    word_len.append(len(i))\n",
        "\n",
        "# Get padding ceiling by taking length of 99.99%th percentile and rounding up to the nearest 100\n",
        "padding_ceil = int(np.ceil(pd.Series(word_len).quantile(.9999)/100)*100)\n",
        "\n",
        "print(f\"padding_ceil={padding_ceil}\")\n",
        "\n",
        "x_train_padded = np.zeros((len(word_list_train), padding_ceil), dtype=int)\n",
        "x_test_padded = np.zeros((len(word_list_test), padding_ceil), dtype=int)\n",
        "\n",
        "for i in range(len(word_list_train)):\n",
        "    if len(word_list_train[i]) > padding_ceil:\n",
        "        x_train_padded[i] = np.array(word_list_train[i][:padding_ceil])\n",
        "    else:\n",
        "        x_train_padded[i] = np.array(list(nltk.pad_sequence(word_list_train[i], padding_ceil + 1 - len(word_list_train[i]), pad_left=True, left_pad_symbol=0)))\n",
        "\n",
        "for i in range(len(word_list_test)):\n",
        "    if len(word_list_test[i]) > padding_ceil:\n",
        "        word_list_test[i] = np.array(word_list_test[i][:padding_ceil])\n",
        "    else:\n",
        "        word_list_test[i] = np.array(list(nltk.pad_sequence(word_list_test[i], padding_ceil + 1 - len(word_list_test[i]), pad_left=True, left_pad_symbol=0)))\n",
        "\n",
        "y_train = np.array(df_train['is_positive'])\n",
        "y_test = np.array(df_test['is_positive'])\n",
        "\n",
        "print(f\"y_train.mean()={y_train.mean():.5f}\")\n",
        "print(f\"y_test.mean()={y_test.mean():.5f}\")\n"
      ]
    },
    {
      "cell_type": "code",
      "execution_count": null,
      "metadata": {
        "id": "d7FIWyNK_VS7"
      },
      "outputs": [],
      "source": [
        "from collections import Counter\n",
        "from torch.utils.data import Dataset, DataLoader\n",
        "import torch\n",
        "import torch.nn as nn"
      ]
    },
    {
      "cell_type": "code",
      "execution_count": null,
      "metadata": {
        "id": "tCzI4Fc0_VS7"
      },
      "outputs": [],
      "source": [
        "import pandas as pd\n",
        "import os\n",
        "from collections import Counter\n",
        "import torch\n",
        "import torch.nn as nn\n",
        "\n",
        "# First, load the data\n",
        "def get_data():\n",
        "    cwd = os.getcwd()\n",
        "    data_path = os.path.join(cwd, \"data\", \"drugsComTrain_raw.tsv\")\n",
        "    df = pd.read_csv(data_path, sep='\\t')\n",
        "    return df\n",
        "\n",
        "# Create vocabulary function\n",
        "def create_vocabulary(texts, max_vocab_size=10000):\n",
        "    word_counts = Counter()\n",
        "    for text in texts:\n",
        "        words = str(text).lower().split()\n",
        "        word_counts.update(words)\n",
        "\n",
        "    vocab = ['<pad>', '<unk>'] + [word for word, count in word_counts.most_common(max_vocab_size-2)]\n",
        "    word2idx = {word: idx for idx, word in enumerate(vocab)}\n",
        "    return word2idx\n",
        "\n",
        "# Load the data\n",
        "df = get_data()\n",
        "\n",
        "# Preprocess text data\n",
        "df['processed_review'] = df['review'].apply(lambda x: str(x).lower())\n",
        "\n",
        "# Create vocabulary\n",
        "word2idx = create_vocabulary(df['processed_review'])\n",
        "\n",
        "# Now you can create your model\n",
        "model = LSTMSentiment(\n",
        "    vocab_size=len(word2idx),\n",
        "    embedding_dim=100,\n",
        "    hidden_dim=128,\n",
        "    n_layers=1,\n",
        "    dropout=0.5\n",
        ").to(device)\n",
        "\n",
        "optimizer = torch.optim.AdamW(model.parameters(), lr=0.001, weight_decay=0.01)\n",
        "criterion = nn.BCEWithLogitsLoss()"
      ]
    },
    {
      "cell_type": "code",
      "execution_count": null,
      "metadata": {
        "id": "eQHd_ZlE_VS7"
      },
      "outputs": [],
      "source": [
        "# Assuming you have your dataframe loaded as df\n",
        "def create_vocabulary(texts, max_vocab_size=10000):\n",
        "    word_counts = Counter()\n",
        "    for text in texts:\n",
        "        words = str(text).lower().split()\n",
        "        word_counts.update(words)\n",
        "\n",
        "    # Keep most common words\n",
        "    vocab = ['<pad>', '<unk>'] + [word for word, count in word_counts.most_common(max_vocab_size-2)]\n",
        "    word2idx = {word: idx for idx, word in enumerate(vocab)}\n",
        "    return word2idx\n",
        "\n",
        "# Preprocess your text data\n",
        "df['processed_review'] = df['review'].apply(lambda x: str(x).lower())\n",
        "\n",
        "# Create vocabulary\n",
        "word2idx = create_vocabulary(df['processed_review'])\n",
        "\n",
        "# Now you can create your model\n",
        "model = LSTMSentiment(\n",
        "    vocab_size=len(word2idx),\n",
        "    embedding_dim=100,\n",
        "    hidden_dim=128,  # Reduced from 256\n",
        "    n_layers=1,      # Reduced from 2\n",
        "    dropout=0.5\n",
        ").to(device)\n",
        "\n",
        "optimizer = torch.optim.AdamW(model.parameters(), lr=0.001, weight_decay=0.01)\n",
        "criterion = nn.BCEWithLogitsLoss()"
      ]
    },
    {
      "cell_type": "markdown",
      "source": [
        "## Create Vocabulary\n",
        "We create a vocabulary of the most frequently used words in the dataset.\n"
      ],
      "metadata": {
        "id": "yHLCtroDCNfY"
      }
    },
    {
      "cell_type": "code",
      "execution_count": null,
      "metadata": {
        "id": "jesGa7WX_VS7"
      },
      "outputs": [],
      "source": [
        "import pandas as pd\n",
        "import os\n",
        "from collections import Counter\n",
        "import torch\n",
        "import torch.nn as nn\n",
        "\n",
        "# First, load the data\n",
        "def get_data():\n",
        "    cwd = os.getcwd()\n",
        "    data_path = os.path.join(cwd, \"data\", \"drugsComTrain_raw.tsv\")\n",
        "    df = pd.read_csv(data_path, sep='\\t')\n",
        "    return df\n",
        "\n",
        "# Create vocabulary function\n",
        "def create_vocabulary(texts, max_vocab_size=10000):\n",
        "    word_counts = Counter()\n",
        "    for text in texts:\n",
        "        words = str(text).lower().split()\n",
        "        word_counts.update(words)\n",
        "\n",
        "    vocab = ['<pad>', '<unk>'] + [word for word, count in word_counts.most_common(max_vocab_size-2)]\n",
        "    word2idx = {word: idx for idx, word in enumerate(vocab)}\n",
        "    return word2idx\n",
        "\n",
        "# Load the data\n",
        "df = get_data()\n",
        "\n",
        "# Preprocess text data\n",
        "df['processed_review'] = df['review'].apply(lambda x: str(x).lower())\n",
        "\n",
        "# Create vocabulary\n",
        "word2idx = create_vocabulary(df['processed_review'])\n",
        "\n",
        "# Now you can create your model\n",
        "model = LSTMSentiment(\n",
        "    vocab_size=len(word2idx),\n",
        "    embedding_dim=100,\n",
        "    hidden_dim=128,\n",
        "    n_layers=1,\n",
        "    dropout=0.5\n",
        ").to(device)\n",
        "\n",
        "optimizer = torch.optim.AdamW(model.parameters(), lr=0.001, weight_decay=0.01)\n",
        "criterion = nn.BCEWithLogitsLoss()"
      ]
    },
    {
      "cell_type": "markdown",
      "source": [
        "## LSTM Model Definition\n",
        "Define the LSTM model that will be used for sentiment classification.\n"
      ],
      "metadata": {
        "id": "3mRfA1LGCGKq"
      }
    },
    {
      "cell_type": "code",
      "execution_count": null,
      "metadata": {
        "id": "O7Fzi6hi_VS7",
        "outputId": "5574c49d-d789-4101-df4a-51b49fd7b306"
      },
      "outputs": [
        {
          "ename": "NameError",
          "evalue": "name 'word2idx' is not defined",
          "output_type": "error",
          "traceback": [
            "\u001b[0;31m---------------------------------------------------------------------------\u001b[0m",
            "\u001b[0;31mNameError\u001b[0m                                 Traceback (most recent call last)",
            "Cell \u001b[0;32mIn[5], line 172\u001b[0m\n\u001b[1;32m    168\u001b[0m     plt\u001b[38;5;241m.\u001b[39mshow()\n\u001b[1;32m    170\u001b[0m \u001b[38;5;66;03m# Usage\u001b[39;00m\n\u001b[1;32m    171\u001b[0m model \u001b[38;5;241m=\u001b[39m LSTMSentiment(\n\u001b[0;32m--> 172\u001b[0m     vocab_size\u001b[38;5;241m=\u001b[39m\u001b[38;5;28mlen\u001b[39m(\u001b[43mword2idx\u001b[49m),\n\u001b[1;32m    173\u001b[0m     embedding_dim\u001b[38;5;241m=\u001b[39m\u001b[38;5;241m100\u001b[39m,\n\u001b[1;32m    174\u001b[0m     hidden_dim\u001b[38;5;241m=\u001b[39m\u001b[38;5;241m128\u001b[39m,  \u001b[38;5;66;03m# Reduced from 256\u001b[39;00m\n\u001b[1;32m    175\u001b[0m     n_layers\u001b[38;5;241m=\u001b[39m\u001b[38;5;241m1\u001b[39m,      \u001b[38;5;66;03m# Reduced from 2\u001b[39;00m\n\u001b[1;32m    176\u001b[0m     dropout\u001b[38;5;241m=\u001b[39m\u001b[38;5;241m0.5\u001b[39m\n\u001b[1;32m    177\u001b[0m )\u001b[38;5;241m.\u001b[39mto(device)\n\u001b[1;32m    179\u001b[0m optimizer \u001b[38;5;241m=\u001b[39m torch\u001b[38;5;241m.\u001b[39moptim\u001b[38;5;241m.\u001b[39mAdamW(model\u001b[38;5;241m.\u001b[39mparameters(), lr\u001b[38;5;241m=\u001b[39m\u001b[38;5;241m0.001\u001b[39m, weight_decay\u001b[38;5;241m=\u001b[39m\u001b[38;5;241m0.01\u001b[39m)\n\u001b[1;32m    180\u001b[0m criterion \u001b[38;5;241m=\u001b[39m nn\u001b[38;5;241m.\u001b[39mBCEWithLogitsLoss()\n",
            "\u001b[0;31mNameError\u001b[0m: name 'word2idx' is not defined"
          ]
        }
      ],
      "source": [
        "import torch\n",
        "import torch.nn as nn\n",
        "from torch.utils.data import Dataset, DataLoader\n",
        "import numpy as np\n",
        "from sklearn.model_selection import train_test_split\n",
        "import matplotlib.pyplot as plt\n",
        "\n",
        "class LSTMSentiment(nn.Module):\n",
        "    def __init__(self, vocab_size, embedding_dim=100, hidden_dim=128, n_layers=1, dropout=0.5):\n",
        "        super().__init__()\n",
        "\n",
        "        # Reduced embedding dimension\n",
        "        self.embedding = nn.Embedding(vocab_size, embedding_dim, padding_idx=0)\n",
        "\n",
        "        # Simpler LSTM architecture\n",
        "        self.lstm = nn.LSTM(embedding_dim,\n",
        "                           hidden_dim,\n",
        "                           n_layers,\n",
        "                           bidirectional=True,\n",
        "                           dropout=dropout if n_layers > 1 else 0,\n",
        "                           batch_first=True)\n",
        "\n",
        "        # Increased dropout\n",
        "        self.dropout = nn.Dropout(dropout)\n",
        "\n",
        "        # Added batch normalization\n",
        "        self.batch_norm = nn.BatchNorm1d(hidden_dim * 2)\n",
        "\n",
        "        # Output layer\n",
        "        self.fc = nn.Linear(hidden_dim * 2, 1)\n",
        "\n",
        "    def forward(self, text):\n",
        "        embedded = self.dropout(self.embedding(text))\n",
        "        output, (hidden, cell) = self.lstm(embedded)\n",
        "\n",
        "        # Use mean pooling instead of last hidden state\n",
        "        output = torch.mean(output, dim=1)\n",
        "\n",
        "        # Apply batch normalization and dropout\n",
        "        output = self.batch_norm(output)\n",
        "        output = self.dropout(output)\n",
        "\n",
        "        return self.fc(output)\n",
        "\n",
        "# Early stopping class\n",
        "class EarlyStopping:\n",
        "    def __init__(self, patience=3, min_delta=0):\n",
        "        self.patience = patience\n",
        "        self.min_delta = min_delta\n",
        "        self.counter = 0\n",
        "        self.best_loss = None\n",
        "        self.early_stop = False\n",
        "\n",
        "    def __call__(self, val_loss):\n",
        "        if self.best_loss is None:\n",
        "            self.best_loss = val_loss\n",
        "        elif val_loss > self.best_loss - self.min_delta:\n",
        "            self.counter += 1\n",
        "            if self.counter >= self.patience:\n",
        "                self.early_stop = True\n",
        "        else:\n",
        "            self.best_loss = val_loss\n",
        "            self.counter = 0\n",
        "\n",
        "def train_model(model, train_loader, valid_loader, criterion, optimizer, n_epochs, device):\n",
        "    train_losses = []\n",
        "    valid_losses = []\n",
        "    train_accs = []\n",
        "    valid_accs = []\n",
        "\n",
        "    # Initialize early stopping\n",
        "    early_stopping = EarlyStopping(patience=3)\n",
        "\n",
        "    for epoch in range(n_epochs):\n",
        "        # Training phase\n",
        "        model.train()\n",
        "        total_train_loss = 0\n",
        "        train_correct = 0\n",
        "        train_total = 0\n",
        "\n",
        "        for batch in train_loader:\n",
        "            reviews = batch['review'].to(device)\n",
        "            ratings = batch['rating'].to(device)\n",
        "\n",
        "            optimizer.zero_grad()\n",
        "\n",
        "            outputs = model(reviews).squeeze()\n",
        "            loss = criterion(outputs, ratings)\n",
        "\n",
        "            # Add L2 regularization\n",
        "            l2_lambda = 0.001\n",
        "            l2_reg = torch.tensor(0.).to(device)\n",
        "            for param in model.parameters():\n",
        "                l2_reg += torch.norm(param)\n",
        "            loss += l2_lambda * l2_reg\n",
        "\n",
        "            loss.backward()\n",
        "\n",
        "            # Gradient clipping\n",
        "            torch.nn.utils.clip_grad_norm_(model.parameters(), max_norm=1)\n",
        "\n",
        "            optimizer.step()\n",
        "\n",
        "            total_train_loss += loss.item()\n",
        "\n",
        "            # Calculate accuracy\n",
        "            predicted = (outputs > 0.5).float()\n",
        "            train_correct += (predicted == ratings).sum().item()\n",
        "            train_total += ratings.size(0)\n",
        "\n",
        "        # Validation phase\n",
        "        model.eval()\n",
        "        total_valid_loss = 0\n",
        "        valid_correct = 0\n",
        "        valid_total = 0\n",
        "\n",
        "        with torch.no_grad():\n",
        "            for batch in valid_loader:\n",
        "                reviews = batch['review'].to(device)\n",
        "                ratings = batch['rating'].to(device)\n",
        "\n",
        "                outputs = model(reviews).squeeze()\n",
        "                loss = criterion(outputs, ratings)\n",
        "\n",
        "                total_valid_loss += loss.item()\n",
        "\n",
        "                predicted = (outputs > 0.5).float()\n",
        "                valid_correct += (predicted == ratings).sum().item()\n",
        "                valid_total += ratings.size(0)\n",
        "\n",
        "        # Calculate average losses and accuracies\n",
        "        avg_train_loss = total_train_loss / len(train_loader)\n",
        "        avg_valid_loss = total_valid_loss / len(valid_loader)\n",
        "        train_acc = train_correct / train_total * 100\n",
        "        valid_acc = valid_correct / valid_total * 100\n",
        "\n",
        "        train_losses.append(avg_train_loss)\n",
        "        valid_losses.append(avg_valid_loss)\n",
        "        train_accs.append(train_acc)\n",
        "        valid_accs.append(valid_acc)\n",
        "\n",
        "        print(f'Epoch {epoch+1}:')\n",
        "        print(f'Train Loss: {avg_train_loss:.4f} | Train Acc: {train_acc:.2f}%')\n",
        "        print(f'Valid Loss: {avg_valid_loss:.4f} | Valid Acc: {valid_acc:.2f}%')\n",
        "\n",
        "        # Early stopping\n",
        "        early_stopping(avg_valid_loss)\n",
        "        if early_stopping.early_stop:\n",
        "            print(\"Early stopping triggered\")\n",
        "            break\n",
        "\n",
        "    # Plot training history\n",
        "    plt.figure(figsize=(12, 4))\n",
        "\n",
        "    plt.subplot(1, 2, 1)\n",
        "    plt.plot(train_accs, label='Train Acc')\n",
        "    plt.plot(valid_accs, label='Validation Acc')\n",
        "    plt.title('Accuracy')\n",
        "    plt.legend()\n",
        "\n",
        "    plt.subplot(1, 2, 2)\n",
        "    plt.plot(train_losses, label='Train loss')\n",
        "    plt.plot(valid_losses, label='Validation loss')\n",
        "    plt.title('Loss')\n",
        "    plt.legend()\n",
        "\n",
        "    plt.tight_layout()\n",
        "    plt.show()\n",
        "\n",
        "# Usage\n",
        "model = LSTMSentiment(\n",
        "    vocab_size=len(word2idx),\n",
        "    embedding_dim=100,\n",
        "    hidden_dim=128,  # Reduced from 256\n",
        "    n_layers=1,      # Reduced from 2\n",
        "    dropout=0.5\n",
        ").to(device)\n",
        "\n",
        "optimizer = torch.optim.AdamW(model.parameters(), lr=0.001, weight_decay=0.01)\n",
        "criterion = nn.BCEWithLogitsLoss()\n",
        "\n",
        "train_model(model, train_loader, valid_loader, criterion, optimizer, n_epochs=10, device=device)"
      ]
    },
    {
      "cell_type": "markdown",
      "source": [
        "## Training the LSTM Model\n",
        "Train the LSTM model using the training dataset and validate it.\n"
      ],
      "metadata": {
        "id": "-ODrDRvgDj_G"
      }
    },
    {
      "cell_type": "markdown",
      "source": [
        "## Model Evaluation and Results\n",
        "Evaluate the model's performance and visualize training and validation accuracy and loss.\n"
      ],
      "metadata": {
        "id": "RdBJyemCDpqp"
      }
    },
    {
      "cell_type": "code",
      "execution_count": null,
      "metadata": {
        "id": "_XSVAiRP_VS8",
        "outputId": "b66c84ea-09eb-410c-c243-bb3b5c040916"
      },
      "outputs": [
        {
          "name": "stdout",
          "output_type": "stream",
          "text": [
            "Using device: cpu\n",
            "Epoch 1:\n",
            "Train Loss: 1.3021 | Train Acc: 73.21%\n",
            "Valid Loss: 0.4130 | Valid Acc: 79.36%\n",
            "Epoch 2:\n",
            "Train Loss: 1.0100 | Train Acc: 79.10%\n",
            "Valid Loss: 0.3949 | Valid Acc: 80.39%\n",
            "Epoch 3:\n",
            "Train Loss: 0.8563 | Train Acc: 80.72%\n",
            "Valid Loss: 0.3747 | Valid Acc: 83.48%\n",
            "Epoch 4:\n",
            "Train Loss: 0.7501 | Train Acc: 81.86%\n",
            "Valid Loss: 0.3774 | Valid Acc: 83.95%\n",
            "Epoch 5:\n",
            "Train Loss: 0.6741 | Train Acc: 82.90%\n",
            "Valid Loss: 0.3567 | Valid Acc: 83.42%\n",
            "Epoch 6:\n",
            "Train Loss: 0.6168 | Train Acc: 83.54%\n",
            "Valid Loss: 0.3588 | Valid Acc: 82.30%\n",
            "Epoch 7:\n",
            "Train Loss: 0.5711 | Train Acc: 84.52%\n",
            "Valid Loss: 0.3517 | Valid Acc: 85.22%\n",
            "Epoch 8:\n",
            "Train Loss: 0.5348 | Train Acc: 85.25%\n",
            "Valid Loss: 0.3365 | Valid Acc: 85.43%\n",
            "Epoch 9:\n",
            "Train Loss: 0.5068 | Train Acc: 85.94%\n",
            "Valid Loss: 0.3301 | Valid Acc: 85.92%\n",
            "Epoch 10:\n",
            "Train Loss: 0.4811 | Train Acc: 86.66%\n",
            "Valid Loss: 0.4103 | Valid Acc: 79.43%\n"
          ]
        },
        {
          "data": {
            "image/png": "[encoded data removed]",
            "text/plain": [
              "<Figure size 1200x400 with 2 Axes>"
            ]
          },
          "metadata": {},
          "output_type": "display_data"
        }
      ],
      "source": [
        "import torch\n",
        "import torch.nn as nn\n",
        "from torch.utils.data import DataLoader\n",
        "\n",
        "# Training function with early stopping\n",
        "def train_model(model, train_loader, valid_loader, criterion, optimizer, n_epochs, device, patience=2):\n",
        "    best_val_acc = 0\n",
        "    patience_counter = 0\n",
        "\n",
        "    for epoch in range(n_epochs):\n",
        "        # Training phase\n",
        "        model.train()\n",
        "        total_train_loss = 0\n",
        "        for batch in train_loader:\n",
        "            reviews = batch['review'].to(device)\n",
        "            labels = batch['rating'].to(device)\n",
        "\n",
        "            optimizer.zero_grad()\n",
        "            outputs = model(reviews).squeeze()\n",
        "            loss = criterion(outputs, labels)\n",
        "            loss.backward()\n",
        "            optimizer.step()\n",
        "            total_train_loss += loss.item()\n",
        "\n",
        "        avg_train_loss = total_train_loss / len(train_loader)\n",
        "\n",
        "        # Validation phase\n",
        "        model.eval()\n",
        "        total_val_loss = 0\n",
        "        correct_predictions = 0\n",
        "        total_predictions = 0\n",
        "\n",
        "        with torch.no_grad():\n",
        "            for batch in valid_loader:\n",
        "                reviews = batch['review'].to(device)\n",
        "                labels = batch['rating'].to(device)\n",
        "\n",
        "                outputs = model(reviews).squeeze()\n",
        "                loss = criterion(outputs, labels)\n",
        "                total_val_loss += loss.item()\n",
        "\n",
        "                predictions = (torch.sigmoid(outputs) > 0.5).float()\n",
        "                correct_predictions += (predictions == labels).sum().item()\n",
        "                total_predictions += labels.size(0)\n",
        "\n",
        "        avg_val_loss = total_val_loss / len(valid_loader)\n",
        "        val_accuracy = correct_predictions / total_predictions * 100\n",
        "\n",
        "        print(f'Epoch {epoch+1}, Train Loss: {avg_train_loss:.4f}, Validation Loss: {avg_val_loss:.4f}, Validation Accuracy: {val_accuracy:.2f}%')\n",
        "\n",
        "        # Early stopping logic\n",
        "        if val_accuracy > best_val_acc:\n",
        "            best_val_acc = val_accuracy\n",
        "            patience_counter = 0  # Reset the counter if we get a new best accuracy\n",
        "        else:\n",
        "            patience_counter += 1\n",
        "\n",
        "        if patience_counter >= patience:\n",
        "            print(f'Early stopping at epoch {epoch+1}. Best Validation Accuracy: {best_val_acc:.2f}%')\n",
        "            break\n",
        "\n",
        "# Set device\n",
        "device = torch.device('cuda' if torch.cuda.is_available() else 'cpu')\n",
        "\n",
        "# Train the model with early stopping\n",
        "train_model(model, train_loader, valid_loader, criterion, optimizer, n_epochs=10, device=device, patience=2)\n"
      ]
    },
    {
      "cell_type": "code",
      "execution_count": null,
      "metadata": {
        "id": "SNHbu2_V_VS8",
        "outputId": "6d3f7a69-0bc0-40e0-b8d9-a484bafcc97c"
      },
      "outputs": [
        {
          "name": "stderr",
          "output_type": "stream",
          "text": [
            "/Users/imanhamdan/my_env/lib/python3.12/site-packages/torch/optim/lr_scheduler.py:62: UserWarning: The verbose parameter is deprecated. Please use get_last_lr() to access the learning rate.\n",
            "  warnings.warn(\n"
          ]
        },
        {
          "name": "stdout",
          "output_type": "stream",
          "text": [
            "Epoch 1:\n",
            "Train Loss: 3.9968 | Train Acc: 63.14%\n",
            "Valid Loss: 0.4956 | Valid Acc: 77.85%\n",
            "Epoch 2:\n",
            "Train Loss: 1.1974 | Train Acc: 74.32%\n",
            "Valid Loss: 0.4614 | Valid Acc: 79.96%\n",
            "Epoch 3:\n",
            "Train Loss: 0.7700 | Train Acc: 76.39%\n",
            "Valid Loss: 0.4377 | Valid Acc: 79.65%\n",
            "Epoch 4:\n",
            "Train Loss: 0.6509 | Train Acc: 77.51%\n",
            "Valid Loss: 0.4336 | Valid Acc: 79.91%\n",
            "Epoch 5:\n",
            "Train Loss: 0.6153 | Train Acc: 78.36%\n",
            "Valid Loss: 0.4417 | Valid Acc: 81.13%\n",
            "Epoch 6:\n",
            "Train Loss: 0.6116 | Train Acc: 78.40%\n",
            "Valid Loss: 0.6422 | Valid Acc: 55.54%\n",
            "Epoch 7:\n",
            "Train Loss: 0.6130 | Train Acc: 78.29%\n",
            "Valid Loss: 1.0654 | Valid Acc: 49.67%\n",
            "Epoch 8:\n",
            "Train Loss: 0.5874 | Train Acc: 78.96%\n",
            "Valid Loss: 0.4561 | Valid Acc: 77.10%\n",
            "Epoch 9:\n",
            "Train Loss: 0.5762 | Train Acc: 79.07%\n",
            "Valid Loss: 0.6360 | Valid Acc: 73.50%\n",
            "Early stopping triggered\n"
          ]
        },
        {
          "data": {
            "image/png": "[encoded data removed]",
            "text/plain": [
              "<Figure size 1200x400 with 2 Axes>"
            ]
          },
          "metadata": {},
          "output_type": "display_data"
        }
      ],
      "source": [
        "class LSTMSentiment(nn.Module):\n",
        "    def __init__(self, vocab_size, embedding_dim=50, hidden_dim=64, n_layers=1, dropout=0.7):\n",
        "        super().__init__()\n",
        "\n",
        "        # Reduced embedding dimension further\n",
        "        self.embedding = nn.Embedding(vocab_size, embedding_dim, padding_idx=0)\n",
        "\n",
        "        # Simpler LSTM architecture with higher dropout\n",
        "        self.lstm = nn.LSTM(embedding_dim,\n",
        "                           hidden_dim,\n",
        "                           n_layers,\n",
        "                           bidirectional=True,\n",
        "                           dropout=dropout if n_layers > 1 else 0,\n",
        "                           batch_first=True)\n",
        "\n",
        "        # Increased dropout even more\n",
        "        self.dropout = nn.Dropout(dropout)\n",
        "\n",
        "        # Added batch normalization\n",
        "        self.batch_norm = nn.BatchNorm1d(hidden_dim * 2)\n",
        "\n",
        "        # Output layer with L2 regularization\n",
        "        self.fc = nn.Linear(hidden_dim * 2, 1)\n",
        "\n",
        "    def forward(self, text):\n",
        "        # Apply higher dropout to embeddings\n",
        "        embedded = self.dropout(self.embedding(text))\n",
        "\n",
        "        output, (hidden, cell) = self.lstm(embedded)\n",
        "\n",
        "        # Global average pooling\n",
        "        output = torch.mean(output, dim=1)\n",
        "\n",
        "        # Stronger regularization\n",
        "        output = self.batch_norm(output)\n",
        "        output = self.dropout(output)\n",
        "\n",
        "        return self.fc(output)\n",
        "\n",
        "# Modified training parameters\n",
        "model = LSTMSentiment(\n",
        "    vocab_size=len(word2idx),\n",
        "    embedding_dim=50,      # Reduced from 100\n",
        "    hidden_dim=64,        # Reduced from 128\n",
        "    n_layers=1,\n",
        "    dropout=0.7          # Increased from 0.5\n",
        ").to(device)\n",
        "\n",
        "# Modified optimizer with stronger regularization\n",
        "optimizer = torch.optim.AdamW(\n",
        "    model.parameters(),\n",
        "    lr=0.0005,           # Reduced learning rate\n",
        "    weight_decay=0.1     # Increased weight decay\n",
        ")\n",
        "\n",
        "# Add learning rate scheduler\n",
        "scheduler = torch.optim.lr_scheduler.ReduceLROnPlateau(\n",
        "    optimizer,\n",
        "    mode='min',\n",
        "    factor=0.5,\n",
        "    patience=2,\n",
        "    verbose=True\n",
        ")\n",
        "\n",
        "# Modify training function to include scheduler\n",
        "def train_model(model, train_loader, valid_loader, criterion, optimizer, scheduler, n_epochs, device):\n",
        "    train_losses = []\n",
        "    valid_losses = []\n",
        "    train_accs = []\n",
        "    valid_accs = []\n",
        "\n",
        "    early_stopping = EarlyStopping(patience=5, min_delta=0.001)\n",
        "\n",
        "    for epoch in range(n_epochs):\n",
        "        model.train()\n",
        "        total_train_loss = 0\n",
        "        train_correct = 0\n",
        "        train_total = 0\n",
        "\n",
        "        for batch in train_loader:\n",
        "            reviews = batch['review'].to(device)\n",
        "            ratings = batch['rating'].to(device)\n",
        "\n",
        "            optimizer.zero_grad()\n",
        "\n",
        "            outputs = model(reviews).squeeze()\n",
        "            loss = criterion(outputs, ratings)\n",
        "\n",
        "            # Stronger L2 regularization\n",
        "            l2_lambda = 0.01\n",
        "            l2_reg = torch.tensor(0.).to(device)\n",
        "            for param in model.parameters():\n",
        "                l2_reg += torch.norm(param)\n",
        "            loss += l2_lambda * l2_reg\n",
        "\n",
        "            loss.backward()\n",
        "\n",
        "            # Stronger gradient clipping\n",
        "            torch.nn.utils.clip_grad_norm_(model.parameters(), max_norm=0.5)\n",
        "\n",
        "            optimizer.step()\n",
        "\n",
        "            total_train_loss += loss.item()\n",
        "            predicted = (outputs > 0.5).float()\n",
        "            train_correct += (predicted == ratings).sum().item()\n",
        "            train_total += ratings.size(0)\n",
        "\n",
        "        model.eval()\n",
        "        total_valid_loss = 0\n",
        "        valid_correct = 0\n",
        "        valid_total = 0\n",
        "\n",
        "        with torch.no_grad():\n",
        "            for batch in valid_loader:\n",
        "                reviews = batch['review'].to(device)\n",
        "                ratings = batch['rating'].to(device)\n",
        "\n",
        "                outputs = model(reviews).squeeze()\n",
        "                loss = criterion(outputs, ratings)\n",
        "                total_valid_loss += loss.item()\n",
        "\n",
        "                predicted = (outputs > 0.5).float()\n",
        "                valid_correct += (predicted == ratings).sum().item()\n",
        "                valid_total += ratings.size(0)\n",
        "\n",
        "        avg_train_loss = total_train_loss / len(train_loader)\n",
        "        avg_valid_loss = total_valid_loss / len(valid_loader)\n",
        "        train_acc = train_correct / train_total * 100\n",
        "        valid_acc = valid_correct / valid_total * 100\n",
        "\n",
        "        # Step the scheduler\n",
        "        scheduler.step(avg_valid_loss)\n",
        "\n",
        "        train_losses.append(avg_train_loss)\n",
        "        valid_losses.append(avg_valid_loss)\n",
        "        train_accs.append(train_acc)\n",
        "        valid_accs.append(valid_acc)\n",
        "\n",
        "        print(f'Epoch {epoch+1}:')\n",
        "        print(f'Train Loss: {avg_train_loss:.4f} | Train Acc: {train_acc:.2f}%')\n",
        "        print(f'Valid Loss: {avg_valid_loss:.4f} | Valid Acc: {valid_acc:.2f}%')\n",
        "\n",
        "        early_stopping(avg_valid_loss)\n",
        "        if early_stopping.early_stop:\n",
        "            print(\"Early stopping triggered\")\n",
        "            break\n",
        "\n",
        "    # Plot results\n",
        "    plt.figure(figsize=(12, 4))\n",
        "\n",
        "    plt.subplot(1, 2, 1)\n",
        "    plt.plot(train_accs, label='Train Acc')\n",
        "    plt.plot(valid_accs, label='Validation Acc')\n",
        "    plt.title('Accuracy')\n",
        "    plt.legend()\n",
        "\n",
        "    plt.subplot(1, 2, 2)\n",
        "    plt.plot(train_losses, label='Train loss')\n",
        "    plt.plot(valid_losses, label='Validation loss')\n",
        "    plt.title('Loss')\n",
        "    plt.legend()\n",
        "\n",
        "    plt.tight_layout()\n",
        "    plt.show()\n",
        "\n",
        "# Train with modified parameters\n",
        "train_model(model, train_loader, valid_loader, criterion, optimizer, scheduler, n_epochs=15, device=device)"
      ]
    },
    {
      "cell_type": "code",
      "execution_count": null,
      "metadata": {
        "id": "Rh3DldQL_VS9",
        "outputId": "2478a8f4-1ade-4259-a697-d00999b25807"
      },
      "outputs": [
        {
          "name": "stdout",
          "output_type": "stream",
          "text": [
            "Collecting transformers\n",
            "  Downloading transformers-4.46.3-py3-none-any.whl.metadata (44 kB)\n",
            "\u001b[2K     \u001b[90m━━━━━━━━━━━━━━━━━━━━━━━━━━━━━━━━━━━━━━━━\u001b[0m \u001b[32m44.1/44.1 kB\u001b[0m \u001b[31m1.9 MB/s\u001b[0m eta \u001b[36m0:00:00\u001b[0m\n",
            "\u001b[?25hRequirement already satisfied: filelock in /Users/imanhamdan/my_env/lib/python3.12/site-packages (from transformers) (3.16.1)\n",
            "Collecting huggingface-hub<1.0,>=0.23.2 (from transformers)\n",
            "  Downloading huggingface_hub-0.26.2-py3-none-any.whl.metadata (13 kB)\n",
            "Requirement already satisfied: numpy>=1.17 in /Users/imanhamdan/my_env/lib/python3.12/site-packages (from transformers) (2.1.1)\n",
            "Requirement already satisfied: packaging>=20.0 in /Users/imanhamdan/my_env/lib/python3.12/site-packages (from transformers) (24.1)\n",
            "Collecting pyyaml>=5.1 (from transformers)\n",
            "  Using cached PyYAML-6.0.2-cp312-cp312-macosx_11_0_arm64.whl.metadata (2.1 kB)\n",
            "Requirement already satisfied: regex!=2019.12.17 in /Users/imanhamdan/my_env/lib/python3.12/site-packages (from transformers) (2024.11.6)\n",
            "Collecting requests (from transformers)\n",
            "  Downloading requests-2.32.3-py3-none-any.whl.metadata (4.6 kB)\n",
            "Collecting tokenizers<0.21,>=0.20 (from transformers)\n",
            "  Downloading tokenizers-0.20.3-cp312-cp312-macosx_11_0_arm64.whl.metadata (6.7 kB)\n",
            "Collecting safetensors>=0.4.1 (from transformers)\n",
            "  Downloading safetensors-0.4.5-cp312-cp312-macosx_11_0_arm64.whl.metadata (3.8 kB)\n",
            "Requirement already satisfied: tqdm>=4.27 in /Users/imanhamdan/my_env/lib/python3.12/site-packages (from transformers) (4.67.0)\n",
            "Requirement already satisfied: fsspec>=2023.5.0 in /Users/imanhamdan/my_env/lib/python3.12/site-packages (from huggingface-hub<1.0,>=0.23.2->transformers) (2024.10.0)\n",
            "Requirement already satisfied: typing-extensions>=3.7.4.3 in /Users/imanhamdan/my_env/lib/python3.12/site-packages (from huggingface-hub<1.0,>=0.23.2->transformers) (4.12.2)\n",
            "Collecting charset-normalizer<4,>=2 (from requests->transformers)\n",
            "  Downloading charset_normalizer-3.4.0-cp312-cp312-macosx_11_0_arm64.whl.metadata (34 kB)\n",
            "Collecting idna<4,>=2.5 (from requests->transformers)\n",
            "  Downloading idna-3.10-py3-none-any.whl.metadata (10 kB)\n",
            "Collecting urllib3<3,>=1.21.1 (from requests->transformers)\n",
            "  Downloading urllib3-2.2.3-py3-none-any.whl.metadata (6.5 kB)\n",
            "Collecting certifi>=2017.4.17 (from requests->transformers)\n",
            "  Downloading certifi-2024.8.30-py3-none-any.whl.metadata (2.2 kB)\n",
            "Downloading transformers-4.46.3-py3-none-any.whl (10.0 MB)\n",
            "\u001b[2K   \u001b[90m━━━━━━━━━━━━━━━━━━━━━━━━━━━━━━━━━━━━━━━━\u001b[0m \u001b[32m10.0/10.0 MB\u001b[0m \u001b[31m14.3 MB/s\u001b[0m eta \u001b[36m0:00:00\u001b[0m00:01\u001b[0m0:01\u001b[0m\n",
            "\u001b[?25hDownloading huggingface_hub-0.26.2-py3-none-any.whl (447 kB)\n",
            "\u001b[2K   \u001b[90m━━━━━━━━━━━━━━━━━━━━━━━━━━━━━━━━━━━━━━━━\u001b[0m \u001b[32m447.5/447.5 kB\u001b[0m \u001b[31m13.5 MB/s\u001b[0m eta \u001b[36m0:00:00\u001b[0m\n",
            "\u001b[?25hUsing cached PyYAML-6.0.2-cp312-cp312-macosx_11_0_arm64.whl (173 kB)\n",
            "Downloading safetensors-0.4.5-cp312-cp312-macosx_11_0_arm64.whl (381 kB)\n",
            "\u001b[2K   \u001b[90m━━━━━━━━━━━━━━━━━━━━━━━━━━━━━━━━━━━━━━━━\u001b[0m \u001b[32m381.8/381.8 kB\u001b[0m \u001b[31m12.9 MB/s\u001b[0m eta \u001b[36m0:00:00\u001b[0m\n",
            "\u001b[?25hDownloading tokenizers-0.20.3-cp312-cp312-macosx_11_0_arm64.whl (2.6 MB)\n",
            "\u001b[2K   \u001b[90m━━━━━━━━━━━━━━━━━━━━━━━━━━━━━━━━━━━━━━━━\u001b[0m \u001b[32m2.6/2.6 MB\u001b[0m \u001b[31m13.7 MB/s\u001b[0m eta \u001b[36m0:00:00\u001b[0m00:01\u001b[0m00:01\u001b[0m\n",
            "\u001b[?25hDownloading requests-2.32.3-py3-none-any.whl (64 kB)\n",
            "\u001b[2K   \u001b[90m━━━━━━━━━━━━━━━━━━━━━━━━━━━━━━━━━━━━━━━━\u001b[0m \u001b[32m64.9/64.9 kB\u001b[0m \u001b[31m8.6 MB/s\u001b[0m eta \u001b[36m0:00:00\u001b[0m\n",
            "\u001b[?25hDownloading certifi-2024.8.30-py3-none-any.whl (167 kB)\n",
            "\u001b[2K   \u001b[90m━━━━━━━━━━━━━━━━━━━━━━━━━━━━━━━━━━━━━━━━\u001b[0m \u001b[32m167.3/167.3 kB\u001b[0m \u001b[31m14.6 MB/s\u001b[0m eta \u001b[36m0:00:00\u001b[0m\n",
            "\u001b[?25hDownloading charset_normalizer-3.4.0-cp312-cp312-macosx_11_0_arm64.whl (119 kB)\n",
            "\u001b[2K   \u001b[90m━━━━━━━━━━━━━━━━━━━━━━━━━━━━━━━━━━━━━━━━\u001b[0m \u001b[32m119.0/119.0 kB\u001b[0m \u001b[31m20.7 MB/s\u001b[0m eta \u001b[36m0:00:00\u001b[0m\n",
            "\u001b[?25hDownloading idna-3.10-py3-none-any.whl (70 kB)\n",
            "\u001b[2K   \u001b[90m━━━━━━━━━━━━━━━━━━━━━━━━━━━━━━━━━━━━━━━━\u001b[0m \u001b[32m70.4/70.4 kB\u001b[0m \u001b[31m6.3 MB/s\u001b[0m eta \u001b[36m0:00:00\u001b[0m\n",
            "\u001b[?25hDownloading urllib3-2.2.3-py3-none-any.whl (126 kB)\n",
            "\u001b[2K   \u001b[90m━━━━━━━━━━━━━━━━━━━━━━━━━━━━━━━━━━━━━━━━\u001b[0m \u001b[32m126.3/126.3 kB\u001b[0m \u001b[31m14.4 MB/s\u001b[0m eta \u001b[36m0:00:00\u001b[0m\n",
            "\u001b[?25hInstalling collected packages: urllib3, safetensors, pyyaml, idna, charset-normalizer, certifi, requests, huggingface-hub, tokenizers, transformers\n",
            "Successfully installed certifi-2024.8.30 charset-normalizer-3.4.0 huggingface-hub-0.26.2 idna-3.10 pyyaml-6.0.2 requests-2.32.3 safetensors-0.4.5 tokenizers-0.20.3 transformers-4.46.3 urllib3-2.2.3\n",
            "\n",
            "\u001b[1m[\u001b[0m\u001b[34;49mnotice\u001b[0m\u001b[1;39;49m]\u001b[0m\u001b[39;49m A new release of pip is available: \u001b[0m\u001b[31;49m24.0\u001b[0m\u001b[39;49m -> \u001b[0m\u001b[32;49m24.3.1\u001b[0m\n",
            "\u001b[1m[\u001b[0m\u001b[34;49mnotice\u001b[0m\u001b[1;39;49m]\u001b[0m\u001b[39;49m To update, run: \u001b[0m\u001b[32;49mpip install --upgrade pip\u001b[0m\n",
            "Note: you may need to restart the kernel to use updated packages.\n"
          ]
        }
      ],
      "source": [
        "pip install transformers"
      ]
    },
    {
      "cell_type": "code",
      "execution_count": null,
      "metadata": {
        "id": "aE2QhjMj_VS9",
        "outputId": "79437b08-6359-47ee-de93-f0fd471d61ff"
      },
      "outputs": [
        {
          "name": "stderr",
          "output_type": "stream",
          "text": [
            "/Users/imanhamdan/my_env/lib/python3.12/site-packages/tqdm/auto.py:21: TqdmWarning: IProgress not found. Please update jupyter and ipywidgets. See https://ipywidgets.readthedocs.io/en/stable/user_install.html\n",
            "  from .autonotebook import tqdm as notebook_tqdm\n"
          ]
        }
      ],
      "source": [
        "import pandas as pd\n",
        "import torch\n",
        "from torch.utils.data import Dataset, DataLoader\n",
        "from transformers import BertTokenizer\n",
        "\n",
        "class DrugReviewDataset(Dataset):\n",
        "   def __init__(self, data_path, tokenizer, max_length=128):\n",
        "       # Load CSV data\n",
        "       self.data = pd.read_csv(data_path)\n",
        "       self.tokenizer = tokenizer\n",
        "       self.max_length = max_length\n",
        "\n",
        "   def __len__(self):\n",
        "       return len(self.data)\n",
        "\n",
        "   def __getitem__(self, idx):\n",
        "       review = str(self.data.iloc[idx]['review'])\n",
        "       rating = self.data.iloc[idx]['rating'] # Assuming 'rating' is your target\n",
        "\n",
        "       # Convert rating to sentiment (example: >7 is positive)\n",
        "       sentiment = 1 if rating > 7 else 0\n",
        "\n",
        "       encoding = self.tokenizer.encode_plus(\n",
        "           review,\n",
        "           add_special_tokens=True,\n",
        "           max_length=self.max_length,\n",
        "           padding='max_length',\n",
        "           truncation=True,\n",
        "           return_tensors='pt'\n",
        "       )\n",
        "\n",
        "       return {\n",
        "           'input_ids': encoding['input_ids'].flatten(),\n",
        "           'attention_mask': encoding['attention_mask'].flatten(),\n",
        "           'labels': torch.tensor(sentiment, dtype=torch.long)\n",
        "       }\n",
        "\n",
        "# Initialize tokenizer\n",
        "tokenizer = BertTokenizer.from_pretrained('bert-base-uncased')\n",
        "\n",
        "# Create datasets\n",
        "train_dataset = DrugReviewDataset(\n",
        "   '/Users/imanhamdan/aai-501-group7-sentiment-analysis-drug-reviews/data/drugsComTrain_cleaned.csv',\n",
        "   tokenizer\n",
        ")\n",
        "\n",
        "test_dataset = DrugReviewDataset(\n",
        "   '/Users/imanhamdan/aai-501-group7-sentiment-analysis-drug-reviews/data/drugsComTest_cleaned.csv',\n",
        "   tokenizer\n",
        ")\n",
        "\n",
        "# Create dataloaders\n",
        "train_loader = DataLoader(train_dataset, batch_size=32, shuffle=True)\n",
        "test_loader = DataLoader(test_dataset, batch_size=32)"
      ]
    },
    {
      "cell_type": "markdown",
      "source": [
        "## Conclusion\n",
        "The LSTM model was successfully trained on drug review sentiment data, achieving reasonable accuracy. Future work could involve experimenting with different architectures and tuning hyperparameters for improved results.\n"
      ],
      "metadata": {
        "id": "lxlkG_neD5fe"
      }
    }
  ],
  "metadata": {
    "kernelspec": {
      "display_name": "my_env",
      "language": "python",
      "name": "my_env"
    },
    "language_info": {
      "codemirror_mode": {
        "name": "ipython",
        "version": 3
      },
      "file_extension": ".py",
      "mimetype": "text/x-python",
      "name": "python",
      "nbconvert_exporter": "python",
      "pygments_lexer": "ipython3",
      "version": "3.12.4"
    },
    "colab": {
      "provenance": []
    }
  },
  "nbformat": 4,
  "nbformat_minor": 0
}