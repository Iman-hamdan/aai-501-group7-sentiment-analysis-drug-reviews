{
 "cells": [
  {
   "cell_type": "markdown",
   "metadata": {
    "id": "2F_sWK0bAN_g"
   },
   "source": [
    "# Sentiment Analysis of Drug Reviews using LSTM\n",
    "This notebook builds an LSTM model to classify drug reviews as either positive or negative.\n"
   ]
  },
  {
   "cell_type": "markdown",
   "metadata": {
    "id": "7-0wN07eAqBT"
   },
   "source": [
    "## Import Libraries\n",
    "Import all the necessary libraries for data processing, modeling, and visualization.\n"
   ]
  },
  {
   "cell_type": "code",
   "execution_count": 14,
   "metadata": {
    "id": "I_VQzdADAtSm"
   },
   "outputs": [],
   "source": [
    "import matplotlib.pyplot as plt\n",
    "import seaborn as sns\n",
    "import torch\n",
    "import torch.nn as nn\n",
    "import torch.nn.utils.rnn as rnn_utils\n",
    "import os\n",
    "import pandas as pd\n",
    "import numpy as np\n",
    "import re\n",
    "\n",
    "from torch.utils.data import Dataset, DataLoader\n",
    "from sklearn.model_selection import train_test_split\n",
    "from nltk.corpus import stopwords\n",
    "from collections import Counter\n",
    "from torch.utils.data import Dataset, DataLoader\n",
    "from collections import Counter\n",
    "from sklearn.metrics import confusion_matrix, f1_score, precision_score, recall_score, roc_auc_score\n",
    "from sklearn.utils import resample\n",
    "import gc\n"
   ]
  },
  {
   "cell_type": "markdown",
   "metadata": {
    "id": "UfuVC10iA6An"
   },
   "source": [
    "## Download NLTK Resources\n",
    "We need to download necessary NLTK data like stopwords and tokenizer.\n"
   ]
  },
  {
   "cell_type": "code",
   "execution_count": 5,
   "metadata": {
    "id": "Fdl85N0O_VS2",
    "outputId": "9ee68b1a-8f93-4a77-e857-87472cbd585d"
   },
   "outputs": [
    {
     "name": "stderr",
     "output_type": "stream",
     "text": [
      "[nltk_data] Downloading package stopwords to\n",
      "[nltk_data]     C:\\Users\\mikes/nltk_data...\n",
      "[nltk_data]   Package stopwords is already up-to-date!\n",
      "[nltk_data] Downloading package punkt to C:\\Users\\mikes/nltk_data...\n",
      "[nltk_data]   Package punkt is already up-to-date!\n"
     ]
    },
    {
     "data": {
      "text/plain": [
       "True"
      ]
     },
     "execution_count": 5,
     "metadata": {},
     "output_type": "execute_result"
    }
   ],
   "source": [
    "import nltk\n",
    "nltk.download('stopwords')\n",
    "nltk.download('punkt')"
   ]
  },
  {
   "cell_type": "markdown",
   "metadata": {},
   "source": [
    "## Device\n",
    "Set device to GPU if available"
   ]
  },
  {
   "cell_type": "code",
   "execution_count": 6,
   "metadata": {
    "id": "CxK09hHf_VS3",
    "outputId": "4cf30da0-ed18-436f-d0ff-522a7da3bf05"
   },
   "outputs": [
    {
     "name": "stdout",
     "output_type": "stream",
     "text": [
      "True\n"
     ]
    }
   ],
   "source": [
    "is_cuda = torch.cuda.is_available()\n",
    "\n",
    "if is_cuda:\n",
    "    device = torch.device(\"cuda\")\n",
    "else:\n",
    "    device = torch.device(\"cpu\")\n",
    "\n",
    "print(is_cuda)"
   ]
  },
  {
   "cell_type": "markdown",
   "metadata": {},
   "source": [
    "##Early Stopping\n",
    "Define early stopping so we can put 100 epochs in the training loop and avoid overfitting"
   ]
  },
  {
   "cell_type": "code",
   "execution_count": 7,
   "metadata": {},
   "outputs": [],
   "source": [
    "# Early stopping class to prevent overfitting\n",
    "class EarlyStopping:\n",
    "    def __init__(self, patience=3, min_delta=0):\n",
    "        self.patience = patience\n",
    "        self.min_delta = min_delta\n",
    "        self.counter = 0\n",
    "        self.best_loss = None\n",
    "        self.early_stop = False\n",
    "\n",
    "    def __call__(self, val_loss):\n",
    "        if self.best_loss is None:\n",
    "            self.best_loss = val_loss\n",
    "        elif val_loss > self.best_loss - self.min_delta:\n",
    "            self.counter += 1\n",
    "            if self.counter >= self.patience:\n",
    "                self.early_stop = True\n",
    "        else:\n",
    "            self.best_loss = val_loss\n",
    "            self.counter = 0"
   ]
  },
  {
   "cell_type": "markdown",
   "metadata": {
    "id": "FwBTPO00BHCC"
   },
   "source": [
    "## Load and Preprocess Data\n",
    "Load the training and test datasets, and preprocess them by cleaning text and balancing classes.\n"
   ]
  },
  {
   "cell_type": "code",
   "execution_count": 24,
   "metadata": {},
   "outputs": [],
   "source": [
    "# Load the data\n",
    "def get_train_test():\n",
    "    cwd = os.getcwd()\n",
    "    train_path = cwd + \"\\data\\drugsComTrain_raw.tsv\"\n",
    "    test_path = cwd + \"\\data\\drugsComTest_raw.tsv\"\n",
    "    if os.path.exists(train_path) and os.path.exists(test_path):\n",
    "        df_train = pd.read_csv(train_path, sep='\\t')\n",
    "        df_test = pd.read_csv(test_path, sep='\\t')\n",
    "        return df_train, df_test\n",
    "    else:\n",
    "        print(f\"Error: Train file or test file not found in the specified path.\")\n",
    "        print(f\"Expected Train Path: {train_path}\")\n",
    "        print(f\"Expected Test Path: {test_path}\")\n",
    "        return None, None\n",
    "\n",
    "def balance_class(df):\n",
    "    # Separate majority and minority classes\n",
    "    positive = df[df['rating'] == 1]\n",
    "    negative = df[df['rating'] == 0]\n",
    "\n",
    "    print(df['rating'].value_counts())\n",
    "\n",
    "    # Perform random oversampling for the minority class\n",
    "    negative_oversampled = resample(negative,\n",
    "                                    replace=True,     # Sample with replacement\n",
    "                                    n_samples=len(positive),  # Match number in majority class\n",
    "                                    random_state=42)  # For reproducibility\n",
    "\n",
    "    # Combine the oversampled minority class with the majority class\n",
    "    comb_balanced = pd.concat([positive, negative_oversampled])\n",
    "    print(comb_balanced['rating'].value_counts())\n",
    "    return comb_balanced\n",
    "\n",
    "# Remove common stop words from test\n",
    "def remove_stopwords(text):\n",
    "    stop_words = set(stopwords.words('english'))\n",
    "    words = text.split() \n",
    "    filtered_words = [word for word in words if word.lower() not in stop_words]\n",
    "    return ' '.join(filtered_words)\n",
    "\n",
    "def clean_text(text):\n",
    "    # Implementation for text cleaning\n",
    "    cleaned_text = str(text).lower()\n",
    "    # Remove punctuation\n",
    "    cleaned_text = re.sub(r'[^\\w\\s]', '', text)\n",
    "    # Remove extra whitespace\n",
    "    cleaned_text = re.sub(r\"\\s+\", '', cleaned_text)\n",
    "    # Remove digits\n",
    "    cleaned_text = re.sub(r\"\\d\", '', cleaned_text)\n",
    "    return cleaned_text\n",
    "\n",
    "# Assuming you have your dataframe loaded as df\n",
    "def create_vocabulary(texts, max_vocab_size=10000):\n",
    "    word_counts = Counter()\n",
    "    for text in texts:\n",
    "        words = str(text).lower().split()\n",
    "        word_counts.update(words)\n",
    "\n",
    "    # Keep most common words\n",
    "    vocab = ['<pad>', '<unk>'] + [word for word, count in word_counts.most_common(max_vocab_size-2)]\n",
    "    word2idx = {word: idx for idx, word in enumerate(vocab)}\n",
    "    return word2idx\n",
    "\n",
    "# Custom collate function for DataLoader to pad sequences\n",
    "def collate_fn(batch):\n",
    "    reviews = [torch.tensor(item['review'], dtype=torch.long) for item in batch]\n",
    "    ratings = torch.tensor([item['rating'] for item in batch], dtype=torch.float)\n",
    "\n",
    "    padded_reviews = rnn_utils.pad_sequence(reviews, batch_first=True, padding_value=0)\n",
    "    return {\n",
    "        'review': padded_reviews,\n",
    "        'rating': ratings\n",
    "    }\n",
    "\n",
    "# Training function\n",
    "def train_model(model, train_loader, valid_loader, criterion, optimizer, n_epochs, device):\n",
    "    early_stopping = EarlyStopping(patience=3)\n",
    "    train_loss_list = []\n",
    "    valid_loss_list = []\n",
    "    for epoch in range(n_epochs):\n",
    "        # Training phase\n",
    "        model.train()\n",
    "        total_train_loss = 0\n",
    "        train_correct = 0\n",
    "        train_total = 0\n",
    "\n",
    "        for batch in train_loader:\n",
    "            reviews = batch['review'].to(device)\n",
    "            ratings = batch['rating'].to(device)\n",
    "\n",
    "            optimizer.zero_grad()\n",
    "            outputs = model(reviews).squeeze()\n",
    "            loss = criterion(outputs, ratings)\n",
    "            loss.backward()\n",
    "\n",
    "            torch.nn.utils.clip_grad_norm_(model.parameters(), max_norm=1)\n",
    "            optimizer.step()\n",
    "\n",
    "            total_train_loss += loss.item()\n",
    "            predicted = (outputs > 0.5).float()\n",
    "            train_correct += (predicted == ratings).sum().item()\n",
    "            train_total += ratings.size(0)\n",
    "           \n",
    "\n",
    "        # Validation phase\n",
    "        model.eval()\n",
    "        total_valid_loss = 0\n",
    "        valid_correct = 0\n",
    "        valid_total = 0\n",
    "        \n",
    "\n",
    "        with torch.no_grad():\n",
    "            for batch in valid_loader:\n",
    "                reviews = batch['review'].to(device)\n",
    "                ratings = batch['rating'].to(device)\n",
    "\n",
    "                outputs = model(reviews).squeeze()\n",
    "                loss = criterion(outputs, ratings)\n",
    "\n",
    "                total_valid_loss += loss.item()\n",
    "                predicted = (outputs > 0.5).float()\n",
    "                valid_correct += (predicted == ratings).sum().item()\n",
    "                valid_total += ratings.size(0)\n",
    "\n",
    "        avg_train_loss = total_train_loss / len(train_loader)\n",
    "        avg_valid_loss = total_valid_loss / len(valid_loader)\n",
    "        train_acc = train_correct / train_total * 100\n",
    "        valid_acc = valid_correct / valid_total * 100\n",
    "\n",
    "        print(f'Epoch {epoch+1}:')\n",
    "        print(f'Train Loss: {avg_train_loss:.4f} | Train Acc: {train_acc:.2f}%')\n",
    "        print(f'Valid Loss: {avg_valid_loss:.4f} | Valid Acc: {valid_acc:.2f}%')\n",
    "        train_loss_list.append(avg_train_loss)\n",
    "        valid_loss_list.append(avg_valid_loss)\n",
    "        # Early stopping\n",
    "        early_stopping(avg_valid_loss)\n",
    "        if early_stopping.early_stop:\n",
    "            print(\"Early stopping triggered\")\n",
    "            break\n",
    "    return model, train_loss_list, valid_loss_list"
   ]
  },
  {
   "cell_type": "markdown",
   "metadata": {},
   "source": [
    "## LSTM Model Definition\n",
    "Define the LSTM model that will be used for sentiment classification."
   ]
  },
  {
   "cell_type": "code",
   "execution_count": 9,
   "metadata": {},
   "outputs": [],
   "source": [
    "# Define your LSTMSentiment model\n",
    "class LSTMSentiment(nn.Module):\n",
    "    def __init__(self, vocab_size, embedding_dim=100, hidden_dim=128, n_layers=1, dropout=0.5):\n",
    "        super().__init__()\n",
    "        self.embedding = nn.Embedding(vocab_size, embedding_dim, padding_idx=0)\n",
    "        self.lstm = nn.LSTM(embedding_dim, hidden_dim, n_layers,\n",
    "                            bidirectional=True, dropout=dropout if n_layers > 1 else 0, batch_first=True)\n",
    "        self.dropout = nn.Dropout(dropout)\n",
    "        self.batch_norm = nn.BatchNorm1d(hidden_dim * 2)\n",
    "        self.fc = nn.Linear(hidden_dim * 2, 1)\n",
    "\n",
    "    def forward(self, text):\n",
    "        embedded = self.dropout(self.embedding(text))\n",
    "        output, (hidden, cell) = self.lstm(embedded)\n",
    "        output = torch.mean(output, dim=1)\n",
    "        output = self.batch_norm(output)\n",
    "        output = self.dropout(output)\n",
    "        return self.fc(output)"
   ]
  },
  {
   "cell_type": "code",
   "execution_count": 10,
   "metadata": {},
   "outputs": [],
   "source": [
    "# Dataset class to hold the reviews and ratings\n",
    "class DrugReviewDataset(Dataset):\n",
    "    def __init__(self, reviews, ratings):\n",
    "        self.reviews = reviews\n",
    "        self.ratings = ratings\n",
    "\n",
    "    def __len__(self):\n",
    "        return len(self.reviews)\n",
    "\n",
    "    def __getitem__(self, idx):\n",
    "        return {\n",
    "            'review': torch.tensor(self.reviews[idx], dtype=torch.long),\n",
    "            'rating': torch.tensor(self.ratings[idx], dtype=torch.float)\n",
    "        }"
   ]
  },
  {
   "cell_type": "markdown",
   "metadata": {
    "id": "YJe34BkDBZC8"
   },
   "source": [
    "## Data Cleaning & Vocabulary Creation\n",
    "Define functions to clean the text data by removing punctuation, digits, and other unnecessary characters.\n",
    "\n",
    "We create a vocabulary of the most frequently used words in the dataset.\n"
   ]
  },
  {
   "cell_type": "code",
   "execution_count": 50,
   "metadata": {
    "id": "U7tyickF_VS5"
   },
   "outputs": [
    {
     "name": "stdout",
     "output_type": "stream",
     "text": [
      "Data loaded successfully.\n",
      "Index(['Unnamed: 0', 'drugName', 'condition', 'review', 'rating', 'date',\n",
      "       'usefulCount'],\n",
      "      dtype='object')\n",
      "Index(['Unnamed: 0', 'drugName', 'condition', 'review', 'rating', 'date',\n",
      "       'usefulCount'],\n",
      "      dtype='object')\n",
      "rating\n",
      "1    97410\n",
      "0    63887\n",
      "Name: count, dtype: int64\n",
      "rating\n",
      "1    97410\n",
      "0    97410\n",
      "Name: count, dtype: int64\n",
      "rating\n",
      "1    32349\n",
      "0    21417\n",
      "Name: count, dtype: int64\n",
      "rating\n",
      "1    32349\n",
      "0    32349\n",
      "Name: count, dtype: int64\n",
      "y_train.mean()=0.50000\n",
      "y_test.mean()=0.50000\n"
     ]
    }
   ],
   "source": [
    "# Load csv files\n",
    "df_train, df_test = get_train_test()\n",
    "\n",
    "# Ensure files loaded successfully\n",
    "if df_train is not None and df_test is not None:\n",
    "    print(\"Data loaded successfully.\")\n",
    "else:\n",
    "    print(\"Data loading failed. Please check the file paths.\")\n",
    "\n",
    "# Create corpus from training data\n",
    "if df_train is not None:\n",
    "     # Check column names\n",
    "    print(df_train.columns)\n",
    "    print(df_test.columns)\n",
    "\n",
    "    # Ratings greater than 7 are positive, other are not positive\n",
    "    df_train['rating'] = df_train['rating'].apply(lambda x: 1 if x > 7 else 0).values\n",
    "    df_test['rating'] = df_test['rating'].apply(lambda x: 1 if x > 7 else 0).values\n",
    "\n",
    "    # Resample minority class to ensure equal distribution\n",
    "    df_train = balance_class(df_train)\n",
    "    df_test = balance_class(df_test)\n",
    "\n",
    "    # Set y for train and test\n",
    "    y_train = df_train['rating'].values\n",
    "    y_test = df_test['rating'].values\n",
    "\n",
    "    # Ensure mean is 0.5 for balanced class\n",
    "    print(f\"y_train.mean()={y_train.mean():.5f}\")\n",
    "    print(f\"y_test.mean()={y_test.mean():.5f}\")\n",
    "\n",
    "    # Lower case the review\n",
    "    df_train['processed_review'] = df_train['review'].apply(lambda x: str(x).lower())\n",
    "    df_test['processed_review'] = df_test['review'].apply(lambda x: str(x).lower())\n",
    "  \n",
    "    # Remove stop words\n",
    "    df_train['processed_review'] = df_train['processed_review'].apply(remove_stopwords)\n",
    "    df_test['processed_review'] = df_test['processed_review'].apply(remove_stopwords)\n",
    "\n",
    "    # Create vocabulary\n",
    "    word2idx = create_vocabulary(df_train['processed_review'])\n",
    "\n",
    "    # Create vecorized word list for Train and Test\n",
    "    word_list_train = []\n",
    "    for line in df_train['processed_review']:\n",
    "        line_tokens = [word2idx.get(word, word2idx['<unk>']) for word in line.split()]\n",
    "        word_list_train.append(line_tokens)\n",
    "    \n",
    "    word_list_test = []\n",
    "    for line in df_test['processed_review']:\n",
    "        line_tokens = [word2idx.get(word, word2idx['<unk>']) for word in line.split()]\n",
    "        word_list_test.append(line_tokens)"
   ]
  },
  {
   "cell_type": "markdown",
   "metadata": {},
   "source": [
    "## Training the LSTM Model\n",
    "Train the LSTM model using the training dataset and validate it."
   ]
  },
  {
   "cell_type": "code",
   "execution_count": 51,
   "metadata": {
    "id": "O7Fzi6hi_VS7",
    "outputId": "5574c49d-d789-4101-df4a-51b49fd7b306"
   },
   "outputs": [
    {
     "name": "stderr",
     "output_type": "stream",
     "text": [
      "C:\\Users\\mikes\\AppData\\Local\\Temp\\ipykernel_31476\\2216455612.py:66: UserWarning: To copy construct from a tensor, it is recommended to use sourceTensor.clone().detach() or sourceTensor.clone().detach().requires_grad_(True), rather than torch.tensor(sourceTensor).\n",
      "  reviews = [torch.tensor(item['review'], dtype=torch.long) for item in batch]\n"
     ]
    },
    {
     "name": "stdout",
     "output_type": "stream",
     "text": [
      "Epoch 1:\n",
      "Train Loss: 0.5776 | Train Acc: 66.97%\n",
      "Valid Loss: 0.4841 | Valid Acc: 73.78%\n",
      "Epoch 2:\n",
      "Train Loss: 0.4905 | Train Acc: 74.86%\n",
      "Valid Loss: 0.4836 | Valid Acc: 79.51%\n",
      "Epoch 3:\n",
      "Train Loss: 0.4510 | Train Acc: 77.81%\n",
      "Valid Loss: 0.4239 | Valid Acc: 80.08%\n",
      "Epoch 4:\n",
      "Train Loss: 0.4249 | Train Acc: 79.46%\n",
      "Valid Loss: 0.3934 | Valid Acc: 81.94%\n",
      "Epoch 5:\n",
      "Train Loss: 0.4047 | Train Acc: 80.81%\n",
      "Valid Loss: 0.3789 | Valid Acc: 83.25%\n",
      "Epoch 6:\n",
      "Train Loss: 0.3887 | Train Acc: 81.70%\n",
      "Valid Loss: 0.3757 | Valid Acc: 84.03%\n",
      "Epoch 7:\n",
      "Train Loss: 0.3739 | Train Acc: 82.72%\n",
      "Valid Loss: 0.3598 | Valid Acc: 84.03%\n",
      "Epoch 8:\n",
      "Train Loss: 0.3605 | Train Acc: 83.44%\n",
      "Valid Loss: 0.3578 | Valid Acc: 84.14%\n",
      "Epoch 9:\n",
      "Train Loss: 0.3472 | Train Acc: 84.27%\n",
      "Valid Loss: 0.3518 | Valid Acc: 85.87%\n",
      "Epoch 10:\n",
      "Train Loss: 0.3347 | Train Acc: 85.06%\n",
      "Valid Loss: 0.3351 | Valid Acc: 86.25%\n",
      "Epoch 11:\n",
      "Train Loss: 0.3257 | Train Acc: 85.46%\n",
      "Valid Loss: 0.3453 | Valid Acc: 86.04%\n",
      "Epoch 12:\n",
      "Train Loss: 0.3117 | Train Acc: 86.27%\n",
      "Valid Loss: 0.3258 | Valid Acc: 87.41%\n",
      "Epoch 13:\n",
      "Train Loss: 0.3008 | Train Acc: 86.94%\n",
      "Valid Loss: 0.3050 | Valid Acc: 87.57%\n",
      "Epoch 14:\n",
      "Train Loss: 0.2898 | Train Acc: 87.42%\n",
      "Valid Loss: 0.3076 | Valid Acc: 87.02%\n",
      "Epoch 15:\n",
      "Train Loss: 0.2810 | Train Acc: 87.98%\n",
      "Valid Loss: 0.3014 | Valid Acc: 88.01%\n",
      "Epoch 16:\n",
      "Train Loss: 0.2701 | Train Acc: 88.42%\n",
      "Valid Loss: 0.2987 | Valid Acc: 88.67%\n",
      "Epoch 17:\n",
      "Train Loss: 0.2613 | Train Acc: 89.01%\n",
      "Valid Loss: 0.3057 | Valid Acc: 89.26%\n",
      "Epoch 18:\n",
      "Train Loss: 0.2520 | Train Acc: 89.50%\n",
      "Valid Loss: 0.2995 | Valid Acc: 89.31%\n",
      "Epoch 19:\n",
      "Train Loss: 0.2429 | Train Acc: 89.89%\n",
      "Valid Loss: 0.2855 | Valid Acc: 89.44%\n",
      "Epoch 20:\n",
      "Train Loss: 0.2349 | Train Acc: 90.28%\n",
      "Valid Loss: 0.2879 | Valid Acc: 88.79%\n",
      "Epoch 21:\n",
      "Train Loss: 0.2279 | Train Acc: 90.60%\n",
      "Valid Loss: 0.2753 | Valid Acc: 89.85%\n",
      "Epoch 22:\n",
      "Train Loss: 0.2176 | Train Acc: 91.13%\n",
      "Valid Loss: 0.2798 | Valid Acc: 89.38%\n",
      "Epoch 23:\n",
      "Train Loss: 0.2099 | Train Acc: 91.44%\n",
      "Valid Loss: 0.2879 | Valid Acc: 89.85%\n",
      "Epoch 24:\n",
      "Train Loss: 0.2018 | Train Acc: 91.78%\n",
      "Valid Loss: 0.2726 | Valid Acc: 90.79%\n",
      "Epoch 25:\n",
      "Train Loss: 0.1939 | Train Acc: 92.17%\n",
      "Valid Loss: 0.2638 | Valid Acc: 91.08%\n",
      "Epoch 26:\n",
      "Train Loss: 0.1864 | Train Acc: 92.57%\n",
      "Valid Loss: 0.2864 | Valid Acc: 91.33%\n",
      "Epoch 27:\n",
      "Train Loss: 0.1802 | Train Acc: 92.81%\n",
      "Valid Loss: 0.2766 | Valid Acc: 91.67%\n",
      "Epoch 28:\n",
      "Train Loss: 0.1737 | Train Acc: 93.05%\n",
      "Valid Loss: 0.2552 | Valid Acc: 91.76%\n",
      "Epoch 29:\n",
      "Train Loss: 0.1665 | Train Acc: 93.44%\n",
      "Valid Loss: 0.2655 | Valid Acc: 91.68%\n",
      "Epoch 30:\n",
      "Train Loss: 0.1606 | Train Acc: 93.64%\n",
      "Valid Loss: 0.2578 | Valid Acc: 91.88%\n",
      "Epoch 31:\n",
      "Train Loss: 0.1538 | Train Acc: 93.94%\n",
      "Valid Loss: 0.2783 | Valid Acc: 91.56%\n",
      "Early stopping triggered\n"
     ]
    }
   ],
   "source": [
    "# Ensure that the length of reviews and labels match\n",
    "assert len(word_list_train) == len(y_train), \"Training reviews and labels are not of the same length.\"\n",
    "\n",
    "# Split into training and validation sets\n",
    "word_list_train, word_list_valid, y_train, y_valid = train_test_split(word_list_train, y_train, test_size=0.2, random_state=42)\n",
    "\n",
    "# Create datasets and dataloaders\n",
    "train_dataset = DrugReviewDataset(word_list_train, y_train)\n",
    "valid_dataset = DrugReviewDataset(word_list_valid, y_valid)\n",
    "test_dataset = DrugReviewDataset(word_list_test, y_test)\n",
    "\n",
    "train_loader = DataLoader(train_dataset, batch_size=64, shuffle=True, collate_fn=collate_fn)\n",
    "valid_loader = DataLoader(valid_dataset, batch_size=64, shuffle=False, collate_fn=collate_fn)\n",
    "test_loader = DataLoader(test_dataset, batch_size=64, shuffle=False, collate_fn=collate_fn)\n",
    "\n",
    "# Define model hyper-parameters\n",
    "model = LSTMSentiment(\n",
    "    vocab_size=len(word2idx),\n",
    "    embedding_dim=100,\n",
    "    hidden_dim=128,\n",
    "    n_layers=8,\n",
    "    dropout=0.5\n",
    ").to(device)\n",
    "\n",
    "optimizer = torch.optim.AdamW(model.parameters(), lr=0.001, weight_decay=0.01)\n",
    "criterion = nn.BCEWithLogitsLoss()\n",
    "\n",
    "# Train the model\n",
    "model1, train_loss_list, valid_loss_list = train_model(model, train_loader, valid_loader, criterion, optimizer, n_epochs=100, device=device)\n",
    "\n",
    "# Cleanup\n",
    "gc.collect()\n",
    "torch.cuda.empty_cache()\n",
    "del model\n",
    "del optimizer"
   ]
  },
  {
   "cell_type": "markdown",
   "metadata": {
    "id": "RdBJyemCDpqp"
   },
   "source": [
    "## Model Evaluation and Results\n",
    "Evaluate the model's performance and visualize test accuracy and loss."
   ]
  },
  {
   "cell_type": "code",
   "execution_count": 52,
   "metadata": {},
   "outputs": [
    {
     "name": "stderr",
     "output_type": "stream",
     "text": [
      "C:\\Users\\mikes\\AppData\\Local\\Temp\\ipykernel_31476\\2216455612.py:66: UserWarning: To copy construct from a tensor, it is recommended to use sourceTensor.clone().detach() or sourceTensor.clone().detach().requires_grad_(True), rather than torch.tensor(sourceTensor).\n",
      "  reviews = [torch.tensor(item['review'], dtype=torch.long) for item in batch]\n"
     ]
    },
    {
     "name": "stdout",
     "output_type": "stream",
     "text": [
      "test_correct=56351 test_total=64698\n",
      "Percent correct in test 87.10%\n",
      "precision=0.8663 recall=0.8773 f1=0.8718 auc=0.8710\n"
     ]
    },
    {
     "data": {
      "image/png": "[encoded data removed]",
      "text/plain": [
       "<Figure size 600x400 with 2 Axes>"
      ]
     },
     "metadata": {},
     "output_type": "display_data"
    },
    {
     "data": {
      "image/png": "[encoded data removed]",
      "text/plain": [
       "<Figure size 640x480 with 1 Axes>"
      ]
     },
     "metadata": {},
     "output_type": "display_data"
    }
   ],
   "source": [
    "total_test_loss = 0\n",
    "test_correct = 0\n",
    "test_total = 0\n",
    "y_pred = []\n",
    "\n",
    "\n",
    "# Loop over test dataloader\n",
    "with torch.no_grad():\n",
    "    for batch in test_loader:\n",
    "        reviews = batch['review'].to(device)\n",
    "        ratings = batch['rating'].to(device)\n",
    "\n",
    "        # Get prediction\n",
    "        outputs = model1(reviews).squeeze()\n",
    "        \n",
    "        # Calculate loss\n",
    "        loss = criterion(outputs, ratings)\n",
    "        total_test_loss += loss.item()\n",
    "\n",
    "        # Get predicted value\n",
    "        predicted = (outputs > 0.5).float()\n",
    "\n",
    "        # Create y_pred to store all predictions\n",
    "        y_pred = y_pred + predicted.tolist()\n",
    "        test_correct += (predicted == ratings).sum().item()\n",
    "        test_total += ratings.size(0)\n",
    "\n",
    "print(f\"test_correct={test_correct} test_total={test_total}\")\n",
    "\n",
    "# Validate prediction accuracy using Pandas\n",
    "df_result = pd.DataFrame()\n",
    "df_result['y_test'] = y_test\n",
    "df_result['y_pred'] = y_pred\n",
    "df_result['correct'] = np.where(df_result['y_test'] == df_result['y_pred'], 1, 0)\n",
    "\n",
    "print(f\"Percent correct in test {df_result['correct'].mean()*100:.2f}%\")\n",
    "\n",
    "precision = precision_score(y_test, y_pred) \n",
    "recall = recall_score(y_test, y_pred)\n",
    "f1 = f1_score(y_test, y_pred)\n",
    "auc = roc_auc_score(y_test, y_pred)\n",
    "\n",
    "print(f\"precision={precision:.4f} recall={recall:.4f} f1={f1:.4f} auc={auc:.4f}\")\n",
    "\n",
    "# Calculate the confusion matrix\n",
    "conf_matrix = confusion_matrix(df_result['y_test'], df_result['y_pred'])\n",
    "\n",
    "# Optionally, you can plot the confusion matrix for better visualization\n",
    "plt.figure(figsize=(6, 4))\n",
    "sns.heatmap(conf_matrix, annot=True, fmt='d', cmap='Blues', xticklabels=['Not Positive', 'Positive'], yticklabels=['Not Positive', 'Positive'])\n",
    "plt.xlabel('Predicted Label')\n",
    "plt.ylabel('True Label')\n",
    "plt.title('Confusion Matrix')\n",
    "plt.show()\n",
    "\n",
    "# X axis for line chart\n",
    "epoch_list = [x + 1 for x in list(range(0,len(valid_loss_list)))]\n",
    "\n",
    "# Remove last three since they are discarded with early stopping\n",
    "plt.plot(epoch_list[:-3], train_loss_list[:-3], label='train_loss', color='orange')\n",
    "plt.plot(epoch_list[-4:], train_loss_list[-4:], color='orange',linestyle='--')\n",
    "plt.plot(epoch_list[:-3], valid_loss_list[:-3], label='validation_loss', color='blue')\n",
    "plt.plot(epoch_list[-4:], valid_loss_list[-4:], linestyle='--', color='blue')\n",
    "plt.xlabel(\"Epoch\")\n",
    "plt.ylabel(\"Loss\")\n",
    "plt.title(\"Train and Validation Loss\")\n",
    "\n",
    "plt.legend()\n",
    "plt.show()"
   ]
  },
  {
   "cell_type": "markdown",
   "metadata": {
    "id": "lxlkG_neD5fe"
   },
   "source": [
    "## Conclusion\n",
    "The LSTM model was successfully trained on drug review sentiment data, achieving reasonable accuracy. Future work could involve experimenting with different architectures and tuning hyperparameters for improved results.\n"
   ]
  }
 ],
 "metadata": {
  "colab": {
   "provenance": []
  },
  "kernelspec": {
   "display_name": "A500",
   "language": "python",
   "name": "python3"
  },
  "language_info": {
   "codemirror_mode": {
    "name": "ipython",
    "version": 3
   },
   "file_extension": ".py",
   "mimetype": "text/x-python",
   "name": "python",
   "nbconvert_exporter": "python",
   "pygments_lexer": "ipython3",
   "version": "3.11.9"
  }
 },
 "nbformat": 4,
 "nbformat_minor": 0
}
