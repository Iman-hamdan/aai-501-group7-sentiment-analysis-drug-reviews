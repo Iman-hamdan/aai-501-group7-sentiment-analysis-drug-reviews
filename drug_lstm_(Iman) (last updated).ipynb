{
  "cells": [
    {
      "cell_type": "markdown",
      "metadata": {
        "id": "2F_sWK0bAN_g"
      },
      "source": [
        "# Sentiment Analysis of Drug Reviews using LSTM\n",
        "This notebook builds an LSTM model to classify drug reviews as either positive or negative.\n"
      ]
    },
    {
      "cell_type": "markdown",
      "metadata": {
        "id": "FYEl-0iCAd1W"
      },
      "source": [
        "## Install Dependencies\n",
        "Install additional Python libraries required for executing this notebook.\n"
      ]
    },
    {
      "cell_type": "code",
      "execution_count": 13,
      "metadata": {
        "id": "QYkKLvwH_VSz",
        "outputId": "711f7f36-e58d-427e-8de3-52a56a5062b7"
      },
      "outputs": [
        {
          "name": "stdout",
          "output_type": "stream",
          "text": [
            "Requirement already satisfied: nltk in /Users/imanhamdan/my_env/lib/python3.12/site-packages (3.9.1)\n",
            "Requirement already satisfied: click in /Users/imanhamdan/my_env/lib/python3.12/site-packages (from nltk) (8.1.7)\n",
            "Requirement already satisfied: joblib in /Users/imanhamdan/my_env/lib/python3.12/site-packages (from nltk) (1.4.2)\n",
            "Requirement already satisfied: regex>=2021.8.3 in /Users/imanhamdan/my_env/lib/python3.12/site-packages (from nltk) (2024.11.6)\n",
            "Requirement already satisfied: tqdm in /Users/imanhamdan/my_env/lib/python3.12/site-packages (from nltk) (4.67.0)\n",
            "\n",
            "\u001b[1m[\u001b[0m\u001b[34;49mnotice\u001b[0m\u001b[1;39;49m]\u001b[0m\u001b[39;49m A new release of pip is available: \u001b[0m\u001b[31;49m24.0\u001b[0m\u001b[39;49m -> \u001b[0m\u001b[32;49m24.3.1\u001b[0m\n",
            "\u001b[1m[\u001b[0m\u001b[34;49mnotice\u001b[0m\u001b[1;39;49m]\u001b[0m\u001b[39;49m To update, run: \u001b[0m\u001b[32;49mpip install --upgrade pip\u001b[0m\n",
            "Requirement already satisfied: seaborn in /Users/imanhamdan/my_env/lib/python3.12/site-packages (0.13.2)\n",
            "Requirement already satisfied: numpy!=1.24.0,>=1.20 in /Users/imanhamdan/my_env/lib/python3.12/site-packages (from seaborn) (2.0.2)\n",
            "Requirement already satisfied: pandas>=1.2 in /Users/imanhamdan/my_env/lib/python3.12/site-packages (from seaborn) (2.2.2)\n",
            "Requirement already satisfied: matplotlib!=3.6.1,>=3.4 in /Users/imanhamdan/my_env/lib/python3.12/site-packages (from seaborn) (3.9.2)\n",
            "Requirement already satisfied: contourpy>=1.0.1 in /Users/imanhamdan/my_env/lib/python3.12/site-packages (from matplotlib!=3.6.1,>=3.4->seaborn) (1.3.0)\n",
            "Requirement already satisfied: cycler>=0.10 in /Users/imanhamdan/my_env/lib/python3.12/site-packages (from matplotlib!=3.6.1,>=3.4->seaborn) (0.12.1)\n",
            "Requirement already satisfied: fonttools>=4.22.0 in /Users/imanhamdan/my_env/lib/python3.12/site-packages (from matplotlib!=3.6.1,>=3.4->seaborn) (4.53.1)\n",
            "Requirement already satisfied: kiwisolver>=1.3.1 in /Users/imanhamdan/my_env/lib/python3.12/site-packages (from matplotlib!=3.6.1,>=3.4->seaborn) (1.4.7)\n",
            "Requirement already satisfied: packaging>=20.0 in /Users/imanhamdan/my_env/lib/python3.12/site-packages (from matplotlib!=3.6.1,>=3.4->seaborn) (24.1)\n",
            "Requirement already satisfied: pillow>=8 in /Users/imanhamdan/my_env/lib/python3.12/site-packages (from matplotlib!=3.6.1,>=3.4->seaborn) (10.4.0)\n",
            "Requirement already satisfied: pyparsing>=2.3.1 in /Users/imanhamdan/my_env/lib/python3.12/site-packages (from matplotlib!=3.6.1,>=3.4->seaborn) (3.1.4)\n",
            "Requirement already satisfied: python-dateutil>=2.7 in /Users/imanhamdan/my_env/lib/python3.12/site-packages (from matplotlib!=3.6.1,>=3.4->seaborn) (2.9.0.post0)\n",
            "Requirement already satisfied: pytz>=2020.1 in /Users/imanhamdan/my_env/lib/python3.12/site-packages (from pandas>=1.2->seaborn) (2024.2)\n",
            "Requirement already satisfied: tzdata>=2022.7 in /Users/imanhamdan/my_env/lib/python3.12/site-packages (from pandas>=1.2->seaborn) (2024.1)\n",
            "Requirement already satisfied: six>=1.5 in /Users/imanhamdan/my_env/lib/python3.12/site-packages (from python-dateutil>=2.7->matplotlib!=3.6.1,>=3.4->seaborn) (1.16.0)\n",
            "\n",
            "\u001b[1m[\u001b[0m\u001b[34;49mnotice\u001b[0m\u001b[1;39;49m]\u001b[0m\u001b[39;49m A new release of pip is available: \u001b[0m\u001b[31;49m24.0\u001b[0m\u001b[39;49m -> \u001b[0m\u001b[32;49m24.3.1\u001b[0m\n",
            "\u001b[1m[\u001b[0m\u001b[34;49mnotice\u001b[0m\u001b[1;39;49m]\u001b[0m\u001b[39;49m To update, run: \u001b[0m\u001b[32;49mpip install --upgrade pip\u001b[0m\n",
            "Requirement already satisfied: matplotlib in /Users/imanhamdan/my_env/lib/python3.12/site-packages (3.9.2)\n",
            "Requirement already satisfied: contourpy>=1.0.1 in /Users/imanhamdan/my_env/lib/python3.12/site-packages (from matplotlib) (1.3.0)\n",
            "Requirement already satisfied: cycler>=0.10 in /Users/imanhamdan/my_env/lib/python3.12/site-packages (from matplotlib) (0.12.1)\n",
            "Requirement already satisfied: fonttools>=4.22.0 in /Users/imanhamdan/my_env/lib/python3.12/site-packages (from matplotlib) (4.53.1)\n",
            "Requirement already satisfied: kiwisolver>=1.3.1 in /Users/imanhamdan/my_env/lib/python3.12/site-packages (from matplotlib) (1.4.7)\n",
            "Requirement already satisfied: numpy>=1.23 in /Users/imanhamdan/my_env/lib/python3.12/site-packages (from matplotlib) (2.0.2)\n",
            "Requirement already satisfied: packaging>=20.0 in /Users/imanhamdan/my_env/lib/python3.12/site-packages (from matplotlib) (24.1)\n",
            "Requirement already satisfied: pillow>=8 in /Users/imanhamdan/my_env/lib/python3.12/site-packages (from matplotlib) (10.4.0)\n",
            "Requirement already satisfied: pyparsing>=2.3.1 in /Users/imanhamdan/my_env/lib/python3.12/site-packages (from matplotlib) (3.1.4)\n",
            "Requirement already satisfied: python-dateutil>=2.7 in /Users/imanhamdan/my_env/lib/python3.12/site-packages (from matplotlib) (2.9.0.post0)\n",
            "Requirement already satisfied: six>=1.5 in /Users/imanhamdan/my_env/lib/python3.12/site-packages (from python-dateutil>=2.7->matplotlib) (1.16.0)\n",
            "\n",
            "\u001b[1m[\u001b[0m\u001b[34;49mnotice\u001b[0m\u001b[1;39;49m]\u001b[0m\u001b[39;49m A new release of pip is available: \u001b[0m\u001b[31;49m24.0\u001b[0m\u001b[39;49m -> \u001b[0m\u001b[32;49m24.3.1\u001b[0m\n",
            "\u001b[1m[\u001b[0m\u001b[34;49mnotice\u001b[0m\u001b[1;39;49m]\u001b[0m\u001b[39;49m To update, run: \u001b[0m\u001b[32;49mpip install --upgrade pip\u001b[0m\n",
            "Requirement already satisfied: tqdm in /Users/imanhamdan/my_env/lib/python3.12/site-packages (4.67.0)\n",
            "\n",
            "\u001b[1m[\u001b[0m\u001b[34;49mnotice\u001b[0m\u001b[1;39;49m]\u001b[0m\u001b[39;49m A new release of pip is available: \u001b[0m\u001b[31;49m24.0\u001b[0m\u001b[39;49m -> \u001b[0m\u001b[32;49m24.3.1\u001b[0m\n",
            "\u001b[1m[\u001b[0m\u001b[34;49mnotice\u001b[0m\u001b[1;39;49m]\u001b[0m\u001b[39;49m To update, run: \u001b[0m\u001b[32;49mpip install --upgrade pip\u001b[0m\n",
            "Requirement already satisfied: torch in /Users/imanhamdan/my_env/lib/python3.12/site-packages (2.5.1)\n",
            "Requirement already satisfied: torchvision in /Users/imanhamdan/my_env/lib/python3.12/site-packages (0.20.1)\n",
            "Requirement already satisfied: filelock in /Users/imanhamdan/my_env/lib/python3.12/site-packages (from torch) (3.16.1)\n",
            "Requirement already satisfied: typing-extensions>=4.8.0 in /Users/imanhamdan/my_env/lib/python3.12/site-packages (from torch) (4.12.2)\n",
            "Requirement already satisfied: networkx in /Users/imanhamdan/my_env/lib/python3.12/site-packages (from torch) (3.4.2)\n",
            "Requirement already satisfied: jinja2 in /Users/imanhamdan/my_env/lib/python3.12/site-packages (from torch) (3.1.4)\n",
            "Requirement already satisfied: fsspec in /Users/imanhamdan/my_env/lib/python3.12/site-packages (from torch) (2024.10.0)\n",
            "Requirement already satisfied: setuptools in /Users/imanhamdan/my_env/lib/python3.12/site-packages (from torch) (75.6.0)\n",
            "Requirement already satisfied: sympy==1.13.1 in /Users/imanhamdan/my_env/lib/python3.12/site-packages (from torch) (1.13.1)\n",
            "Requirement already satisfied: mpmath<1.4,>=1.1.0 in /Users/imanhamdan/my_env/lib/python3.12/site-packages (from sympy==1.13.1->torch) (1.3.0)\n",
            "Requirement already satisfied: numpy in /Users/imanhamdan/my_env/lib/python3.12/site-packages (from torchvision) (2.0.2)\n",
            "Requirement already satisfied: pillow!=8.3.*,>=5.3.0 in /Users/imanhamdan/my_env/lib/python3.12/site-packages (from torchvision) (10.4.0)\n",
            "Requirement already satisfied: MarkupSafe>=2.0 in /Users/imanhamdan/my_env/lib/python3.12/site-packages (from jinja2->torch) (3.0.2)\n",
            "\n",
            "\u001b[1m[\u001b[0m\u001b[34;49mnotice\u001b[0m\u001b[1;39;49m]\u001b[0m\u001b[39;49m A new release of pip is available: \u001b[0m\u001b[31;49m24.0\u001b[0m\u001b[39;49m -> \u001b[0m\u001b[32;49m24.3.1\u001b[0m\n",
            "\u001b[1m[\u001b[0m\u001b[34;49mnotice\u001b[0m\u001b[1;39;49m]\u001b[0m\u001b[39;49m To update, run: \u001b[0m\u001b[32;49mpip install --upgrade pip\u001b[0m\n",
            "Requirement already satisfied: scikit-learn in /Users/imanhamdan/my_env/lib/python3.12/site-packages (1.5.2)\n",
            "Requirement already satisfied: numpy>=1.19.5 in /Users/imanhamdan/my_env/lib/python3.12/site-packages (from scikit-learn) (2.0.2)\n",
            "Requirement already satisfied: scipy>=1.6.0 in /Users/imanhamdan/my_env/lib/python3.12/site-packages (from scikit-learn) (1.14.1)\n",
            "Requirement already satisfied: joblib>=1.2.0 in /Users/imanhamdan/my_env/lib/python3.12/site-packages (from scikit-learn) (1.4.2)\n",
            "Requirement already satisfied: threadpoolctl>=3.1.0 in /Users/imanhamdan/my_env/lib/python3.12/site-packages (from scikit-learn) (3.5.0)\n",
            "\n",
            "\u001b[1m[\u001b[0m\u001b[34;49mnotice\u001b[0m\u001b[1;39;49m]\u001b[0m\u001b[39;49m A new release of pip is available: \u001b[0m\u001b[31;49m24.0\u001b[0m\u001b[39;49m -> \u001b[0m\u001b[32;49m24.3.1\u001b[0m\n",
            "\u001b[1m[\u001b[0m\u001b[34;49mnotice\u001b[0m\u001b[1;39;49m]\u001b[0m\u001b[39;49m To update, run: \u001b[0m\u001b[32;49mpip install --upgrade pip\u001b[0m\n",
            "Note: you may need to restart the kernel to use updated packages.\n"
          ]
        }
      ],
      "source": [
        "!pip install nltk\n",
        "!pip install seaborn\n",
        "!pip install matplotlib\n",
        "!pip install tqdm\n",
        "!pip install torch torchvision\n",
        "%pip install scikit-learn"
      ]
    },
    {
      "cell_type": "markdown",
      "metadata": {
        "id": "7-0wN07eAqBT"
      },
      "source": [
        "## Import Libraries\n",
        "Import all the necessary libraries for data processing, modeling, and visualization.\n"
      ]
    },
    {
      "cell_type": "code",
      "execution_count": 14,
      "metadata": {
        "id": "I_VQzdADAtSm"
      },
      "outputs": [],
      "source": [
        "import os\n",
        "import torch\n",
        "import pandas as pd\n",
        "import numpy as np\n",
        "import matplotlib.pyplot as plt\n",
        "import seaborn as sns\n",
        "from torch.utils.data import Dataset, DataLoader\n",
        "from sklearn.model_selection import train_test_split\n",
        "from nltk.corpus import stopwords\n",
        "from nltk.tokenize import word_tokenize\n",
        "import re\n",
        "from collections import Counter\n"
      ]
    },
    {
      "cell_type": "markdown",
      "metadata": {
        "id": "UfuVC10iA6An"
      },
      "source": [
        "## Download NLTK Resources\n",
        "We need to download necessary NLTK data like stopwords and tokenizer.\n"
      ]
    },
    {
      "cell_type": "code",
      "execution_count": 15,
      "metadata": {
        "id": "Fdl85N0O_VS2",
        "outputId": "9ee68b1a-8f93-4a77-e857-87472cbd585d"
      },
      "outputs": [
        {
          "name": "stderr",
          "output_type": "stream",
          "text": [
            "[nltk_data] Downloading package stopwords to\n",
            "[nltk_data]     /Users/imanhamdan/nltk_data...\n",
            "[nltk_data]   Package stopwords is already up-to-date!\n",
            "[nltk_data] Downloading package punkt to\n",
            "[nltk_data]     /Users/imanhamdan/nltk_data...\n",
            "[nltk_data]   Package punkt is already up-to-date!\n"
          ]
        },
        {
          "data": {
            "text/plain": [
              "True"
            ]
          },
          "execution_count": 15,
          "metadata": {},
          "output_type": "execute_result"
        }
      ],
      "source": [
        "import nltk\n",
        "nltk.download('stopwords')\n",
        "nltk.download('punkt')"
      ]
    },
    {
      "cell_type": "code",
      "execution_count": 16,
      "metadata": {
        "id": "gdv9pWu7_VS2",
        "outputId": "df7f1867-a0d5-4abd-ad2a-12cc331809ce"
      },
      "outputs": [
        {
          "name": "stderr",
          "output_type": "stream",
          "text": [
            "[nltk_data] Downloading package stopwords to\n",
            "[nltk_data]     /Users/imanhamdan/nltk_data...\n",
            "[nltk_data]   Package stopwords is already up-to-date!\n",
            "[nltk_data] Downloading package punkt to\n",
            "[nltk_data]     /Users/imanhamdan/nltk_data...\n",
            "[nltk_data]   Package punkt is already up-to-date!\n"
          ]
        },
        {
          "data": {
            "text/plain": [
              "True"
            ]
          },
          "execution_count": 16,
          "metadata": {},
          "output_type": "execute_result"
        }
      ],
      "source": [
        "import torch\n",
        "import torch.nn as nn\n",
        "import torch.nn.functional as F\n",
        "from torch.utils.data import TensorDataset, DataLoader\n",
        "from tqdm import tqdm\n",
        "from sklearn.utils import resample\n",
        "from nltk.corpus import stopwords\n",
        "from sklearn.model_selection import train_test_split\n",
        "from nltk.tokenize import word_tokenize\n",
        "import re\n",
        "import sys\n",
        "import matplotlib.pyplot as plt\n",
        "import seaborn as sns\n",
        "import pandas as pd\n",
        "import numpy as np\n",
        "\n",
        "# Download required NLTK data (run once)\n",
        "import nltk\n",
        "nltk.download('stopwords')\n",
        "nltk.download('punkt')"
      ]
    },
    {
      "cell_type": "code",
      "execution_count": 17,
      "metadata": {
        "id": "CxK09hHf_VS3",
        "outputId": "4cf30da0-ed18-436f-d0ff-522a7da3bf05"
      },
      "outputs": [
        {
          "name": "stdout",
          "output_type": "stream",
          "text": [
            "False\n"
          ]
        }
      ],
      "source": [
        "is_cuda = torch.cuda.is_available()\n",
        "\n",
        "if is_cuda:\n",
        "    device = torch.device(\"cuda\")\n",
        "else:\n",
        "    device = torch.device(\"cpu\")\n",
        "\n",
        "print(is_cuda)"
      ]
    },
    {
      "cell_type": "markdown",
      "metadata": {
        "id": "FwBTPO00BHCC"
      },
      "source": [
        "## Load and Preprocess Data\n",
        "Load the training and test datasets, and preprocess them by cleaning text and balancing classes.\n"
      ]
    },
    {
      "cell_type": "code",
      "execution_count": 18,
      "metadata": {
        "id": "vVlroT-L_VS3",
        "outputId": "c21e702e-be59-4020-841a-06082f015487"
      },
      "outputs": [
        {
          "name": "stderr",
          "output_type": "stream",
          "text": [
            "<>:5: SyntaxWarning: invalid escape sequence '\\d'\n",
            "<>:6: SyntaxWarning: invalid escape sequence '\\d'\n",
            "<>:5: SyntaxWarning: invalid escape sequence '\\d'\n",
            "<>:6: SyntaxWarning: invalid escape sequence '\\d'\n",
            "/var/folders/9d/8ldx6syj5ms3xms5s9mybtkc0000gn/T/ipykernel_56121/2163893732.py:5: SyntaxWarning: invalid escape sequence '\\d'\n",
            "  df_train = pd.read_csv(cwd + \"\\data\\drugsComTrain_raw.tsv\", sep='\\t')\n",
            "/var/folders/9d/8ldx6syj5ms3xms5s9mybtkc0000gn/T/ipykernel_56121/2163893732.py:6: SyntaxWarning: invalid escape sequence '\\d'\n",
            "  df_test = pd.read_csv(cwd + \"\\data\\drugsComTest_raw.tsv\", sep='\\t')\n"
          ]
        }
      ],
      "source": [
        "def get_train_test(balance):\n",
        "    cwd = os.getcwd()\n",
        "    # print(cwd)\n",
        "\n",
        "    df_train = pd.read_csv(cwd + \"\\data\\drugsComTrain_raw.tsv\", sep='\\t')\n",
        "    df_test = pd.read_csv(cwd + \"\\data\\drugsComTest_raw.tsv\", sep='\\t')\n",
        "\n",
        "    df_list = [df_train, df_test]\n",
        "\n",
        "    # print(f\"train_len={train_len} test_len={test_len} df_len={len(df)}\")\n",
        "    print(df_train.columns)\n",
        "\n",
        "    df_train['drugName'] = df_train['drugName'].str.upper()\n",
        "    number_of_drugs = len(df_train['drugName'].unique())\n",
        "    print(f\"Number of drugs = {number_of_drugs}\")\n",
        "\n",
        "    df_train['condition'] = df_train['condition'].str.upper()\n",
        "    number_of_drugs = len(df_train['condition'].unique())\n",
        "    print(f\"Number of condition = {number_of_drugs}\")\n",
        "\n",
        "    # Generate columns for review length and positive reviews.  If the rating is greater than 7 of 10, assume it is positive\n",
        "    for df in df_list:\n",
        "        df['review_len'] = df['review'].str.len()\n",
        "        df['is_positive'] = np.where(df['rating'] > 7, 1, 0)\n",
        "\n",
        "    if balance:\n",
        "        df_train = balance_class(df_train, 'is_positive')\n",
        "        df_test = balance_class(df_test, 'is_positive')\n",
        "    return df_train, df_test\n",
        "\n",
        "def balance_class(df, colname):\n",
        "    class1 = df[df[colname] == 1].copy()\n",
        "    class2 = df[df[colname] == 0].copy()\n",
        "\n",
        "    if len(class1) > len(class2):\n",
        "        maj_class = class1\n",
        "        min_class = class2\n",
        "    else:\n",
        "        maj_class = class2\n",
        "        min_class = class1\n",
        "\n",
        "    maj_downsample = resample(maj_class, replace=False, n_samples=len(min_class), random_state=0)\n",
        "\n",
        "    df_balanced = pd.concat([min_class, maj_downsample])\n",
        "    return df_balanced"
      ]
    },
    {
      "cell_type": "code",
      "execution_count": 19,
      "metadata": {
        "id": "NblYteJZ_VS3"
      },
      "outputs": [],
      "source": [
        "import os"
      ]
    },
    {
      "cell_type": "code",
      "execution_count": 20,
      "metadata": {
        "id": "QlDGxM3-_VS4",
        "outputId": "f41a128a-de67-4f23-dea3-0dc9bd5999a2"
      },
      "outputs": [
        {
          "name": "stderr",
          "output_type": "stream",
          "text": [
            "<>:7: SyntaxWarning: invalid escape sequence '\\d'\n",
            "<>:7: SyntaxWarning: invalid escape sequence '\\d'\n",
            "/var/folders/9d/8ldx6syj5ms3xms5s9mybtkc0000gn/T/ipykernel_56121/3114962087.py:7: SyntaxWarning: invalid escape sequence '\\d'\n",
            "  df_train = pd.read_csv(cwd + \"\\data\\drugsComTrain_raw.tsv\", sep='\\t')\n"
          ]
        }
      ],
      "source": [
        "import os  # Add this import\n",
        "import pandas as pd\n",
        "# ... your other imports ...\n",
        "\n",
        "def get_train_test(balance):\n",
        "    cwd = os.getcwd()\n",
        "    df_train = pd.read_csv(cwd + \"\\data\\drugsComTrain_raw.tsv\", sep='\\t')\n",
        "    # rest of your function"
      ]
    },
    {
      "cell_type": "code",
      "execution_count": 21,
      "metadata": {
        "id": "maV7K_Bz_VS4"
      },
      "outputs": [],
      "source": [
        "def get_train_test(balance):\n",
        "    cwd = os.getcwd()\n",
        "    data_path = os.path.join(cwd, \"data\", \"drugsComTrain_raw.tsv\")\n",
        "    df_train = pd.read_csv(data_path, sep='\\t')\n",
        "    # rest of your function"
      ]
    },
    {
      "cell_type": "code",
      "execution_count": 22,
      "metadata": {
        "id": "9KLh2h5S_VS4",
        "outputId": "ebdecc18-a923-4494-a28a-b8d6eb24a3e5"
      },
      "outputs": [
        {
          "name": "stderr",
          "output_type": "stream",
          "text": [
            "<>:7: SyntaxWarning: invalid escape sequence '\\d'\n",
            "<>:7: SyntaxWarning: invalid escape sequence '\\d'\n",
            "/var/folders/9d/8ldx6syj5ms3xms5s9mybtkc0000gn/T/ipykernel_56121/3114962087.py:7: SyntaxWarning: invalid escape sequence '\\d'\n",
            "  df_train = pd.read_csv(cwd + \"\\data\\drugsComTrain_raw.tsv\", sep='\\t')\n"
          ]
        }
      ],
      "source": [
        "import os  # Add this import\n",
        "import pandas as pd\n",
        "# ... your other imports ...\n",
        "\n",
        "def get_train_test(balance):\n",
        "    cwd = os.getcwd()\n",
        "    df_train = pd.read_csv(cwd + \"\\data\\drugsComTrain_raw.tsv\", sep='\\t')\n",
        "    # rest of your function"
      ]
    },
    {
      "cell_type": "markdown",
      "metadata": {
        "id": "YJe34BkDBZC8"
      },
      "source": [
        "## Data Cleaning\n",
        "Define functions to clean the text data by removing punctuation, digits, and other unnecessary characters.\n"
      ]
    },
    {
      "cell_type": "code",
      "execution_count": 24,
      "metadata": {
        "id": "U7tyickF_VS5"
      },
      "outputs": [
        {
          "name": "stdout",
          "output_type": "stream",
          "text": [
            "Data loaded successfully.\n",
            "Processing complete.\n"
          ]
        }
      ],
      "source": [
        "import os\n",
        "import pandas as pd\n",
        "import nltk\n",
        "from nltk.corpus import stopwords\n",
        "\n",
        "# Correct paths to the train and test files\n",
        "train_path = \"/Users/imanhamdan/aai-501-group7-sentiment-analysis-drug-reviews/data/drugsComTrain_raw.tsv\"\n",
        "test_path = \"/Users/imanhamdan/aai-501-group7-sentiment-analysis-drug-reviews/data/drugsComTest_raw.tsv\"\n",
        "\n",
        "# Load the data\n",
        "def get_train_test():\n",
        "    if os.path.exists(train_path) and os.path.exists(test_path):\n",
        "        df_train = pd.read_csv(train_path, sep='\\t')\n",
        "        df_test = pd.read_csv(test_path, sep='\\t')\n",
        "        return df_train, df_test\n",
        "    else:\n",
        "        print(f\"Error: Train file or test file not found in the specified path.\")\n",
        "        print(f\"Expected Train Path: {train_path}\")\n",
        "        print(f\"Expected Test Path: {test_path}\")\n",
        "        return None, None\n",
        "\n",
        "# Load the data\n",
        "df_train, df_test = get_train_test()\n",
        "\n",
        "if df_train is not None and df_test is not None:\n",
        "    print(\"Data loaded successfully.\")\n",
        "else:\n",
        "    print(\"Data loading failed. Please check the file paths.\")\n",
        "\n",
        "# Clean text function\n",
        "def clean_text(text):\n",
        "    # Implementation for text cleaning\n",
        "    cleaned_text = str(text).lower()\n",
        "    # Add additional cleaning steps as needed\n",
        "    return cleaned_text\n",
        "\n",
        "# Create corpus from training data\n",
        "if df_train is not None:\n",
        "    corpus = []\n",
        "    for review in df_train['review']:\n",
        "        words = str(review).lower().split()\n",
        "        corpus.extend(words)\n",
        "\n",
        "    # Create a dictionary with word as key and rank as value\n",
        "    oh_dict = {}\n",
        "    for word_count, word in enumerate(corpus):\n",
        "        oh_dict[word] = word_count + 1\n",
        "\n",
        "    word_list_train = []\n",
        "    word_list_test = []\n",
        "\n",
        "    # Process training data\n",
        "    for line in df_train['review']:\n",
        "        line_tokens = []\n",
        "        for word in line.split():\n",
        "            if clean_text(word) in oh_dict.keys():\n",
        "                line_tokens.append(oh_dict[clean_text(word)])\n",
        "        word_list_train.append(line_tokens)\n",
        "\n",
        "    # Process test data\n",
        "    for line in df_test['review']:\n",
        "        line_tokens = []\n",
        "        for word in line.split():\n",
        "            if clean_text(word) in oh_dict.keys():\n",
        "                line_tokens.append(oh_dict[clean_text(word)])\n",
        "        word_list_test.append(line_tokens)\n",
        "\n",
        "    print(\"Processing complete.\")\n"
      ]
    },
    {
      "cell_type": "code",
      "execution_count": 26,
      "metadata": {
        "id": "sQBMonLi_VS5",
        "outputId": "8c0c8ea0-8397-4615-9563-d01ea292fb7f"
      },
      "outputs": [
        {
          "name": "stderr",
          "output_type": "stream",
          "text": [
            "[nltk_data] Downloading package stopwords to\n",
            "[nltk_data]     /Users/imanhamdan/nltk_data...\n",
            "[nltk_data]   Package stopwords is already up-to-date!\n"
          ]
        },
        {
          "name": "stdout",
          "output_type": "stream",
          "text": [
            "Vocabulary size: 10000\n",
            "Number of training sequences: 161297\n",
            "Number of test sequences: 53766\n"
          ]
        }
      ],
      "source": [
        "import os\n",
        "import pandas as pd\n",
        "import re\n",
        "from collections import Counter\n",
        "from nltk.corpus import stopwords\n",
        "import nltk\n",
        "\n",
        "# Download required NLTK data\n",
        "nltk.download('stopwords')\n",
        "\n",
        "# Update file paths\n",
        "train_path = \"/Users/imanhamdan/aai-501-group7-sentiment-analysis-drug-reviews/data/drugsComTrain_raw.tsv\"\n",
        "test_path = \"/Users/imanhamdan/aai-501-group7-sentiment-analysis-drug-reviews/data/drugsComTest_raw.tsv\"\n",
        "\n",
        "# Load the data using the correct paths\n",
        "def get_train_test():\n",
        "    if os.path.exists(train_path) and os.path.exists(test_path):\n",
        "        df_train = pd.read_csv(train_path, sep='\\t')\n",
        "        df_test = pd.read_csv(test_path, sep='\\t')\n",
        "        return df_train, df_test\n",
        "    else:\n",
        "        print(\"Error: Train file or test file not found in the specified path.\")\n",
        "        return None, None\n",
        "\n",
        "# Get the data\n",
        "df_train, df_test = get_train_test()\n",
        "\n",
        "# Make sure data loaded successfully before continuing\n",
        "if df_train is not None and df_test is not None:\n",
        "\n",
        "    def clean_text(text):\n",
        "        # Remove punctuation\n",
        "        cleaned_text = re.sub(r'[^\\w\\s]', '', text)\n",
        "        # Remove extra whitespace\n",
        "        cleaned_text = re.sub(r\"\\s+\", ' ', cleaned_text)  # Changed to keep single spaces between words\n",
        "        # Remove digits\n",
        "        cleaned_text = re.sub(r\"\\d\", '', cleaned_text)\n",
        "        return cleaned_text\n",
        "\n",
        "    # Set column to lower case\n",
        "    df_train['review'] = df_train['review'].str.lower()\n",
        "    df_test['review'] = df_test['review'].str.lower()\n",
        "\n",
        "    # Get stop words from NLTK\n",
        "    stop_words = set(stopwords.words('english'))\n",
        "    word_list = []\n",
        "\n",
        "    # Concat all rows to single line\n",
        "    all_lines = df_train['review'].str.cat(sep=' ')\n",
        "    for word in all_lines.split():\n",
        "        # Clean words\n",
        "        word = clean_text(word)\n",
        "        # If word not a stop word or removed in cleaning\n",
        "        if word not in stop_words and word != '':\n",
        "            # Add to list of words\n",
        "            word_list.append(word)\n",
        "\n",
        "    # Get the 10,000 most common words\n",
        "    corpus = Counter(word_list).most_common(10000)\n",
        "\n",
        "    # Create a dictionary with the word being the key and value being the rank\n",
        "    oh_dict = {}\n",
        "    for word_count, (word, _) in enumerate(corpus):\n",
        "        oh_dict[word] = word_count + 1\n",
        "\n",
        "    # Process training and test data\n",
        "    word_list_train = []\n",
        "    word_list_test = []\n",
        "\n",
        "    # Process training data\n",
        "    for line in df_train['review']:\n",
        "        line_tokens = []\n",
        "        for word in line.split():\n",
        "            cleaned_word = clean_text(word)\n",
        "            if cleaned_word in oh_dict.keys():\n",
        "                line_tokens.append(oh_dict[cleaned_word])\n",
        "        word_list_train.append(line_tokens)\n",
        "\n",
        "    # Process test data\n",
        "    for line in df_test['review']:\n",
        "        line_tokens = []\n",
        "        for word in line.split():\n",
        "            cleaned_word = clean_text(word)\n",
        "            if cleaned_word in oh_dict.keys():\n",
        "                line_tokens.append(oh_dict[cleaned_word])\n",
        "        word_list_test.append(line_tokens)\n",
        "\n",
        "    # Print some statistics to verify\n",
        "    print(f\"Vocabulary size: {len(oh_dict)}\")\n",
        "    print(f\"Number of training sequences: {len(word_list_train)}\")\n",
        "    print(f\"Number of test sequences: {len(word_list_test)}\")\n",
        "\n",
        "else:\n",
        "    print(\"Data loading failed. Please check the file paths.\")\n"
      ]
    },
    {
      "cell_type": "code",
      "execution_count": 28,
      "metadata": {
        "id": "FSVomHQg_VS6",
        "outputId": "ec7b9c46-32d8-432d-8e91-aa803387690e"
      },
      "outputs": [
        {
          "name": "stderr",
          "output_type": "stream",
          "text": [
            "[nltk_data] Downloading package stopwords to\n",
            "[nltk_data]     /Users/imanhamdan/nltk_data...\n",
            "[nltk_data]   Package stopwords is already up-to-date!\n"
          ]
        },
        {
          "name": "stdout",
          "output_type": "stream",
          "text": [
            "Index(['Unnamed: 0', 'drugName', 'condition', 'review', 'rating', 'date',\n",
            "       'usefulCount'],\n",
            "      dtype='object')\n",
            "Index(['Unnamed: 0', 'drugName', 'condition', 'review', 'rating', 'date',\n",
            "       'usefulCount'],\n",
            "      dtype='object')\n",
            "y_train.mean()=0.66254\n",
            "y_test.mean()=0.65915\n"
          ]
        }
      ],
      "source": [
        "import os\n",
        "import pandas as pd\n",
        "import numpy as np\n",
        "import nltk\n",
        "from collections import Counter\n",
        "from nltk.corpus import stopwords\n",
        "\n",
        "# Download required NLTK data\n",
        "nltk.download('stopwords')\n",
        "\n",
        "# Update file paths\n",
        "train_path = \"/Users/imanhamdan/aai-501-group7-sentiment-analysis-drug-reviews/data/drugsComTrain_raw.tsv\"\n",
        "test_path = \"/Users/imanhamdan/aai-501-group7-sentiment-analysis-drug-reviews/data/drugsComTest_raw.tsv\"\n",
        "\n",
        "# Load the data using the correct paths\n",
        "def get_train_test():\n",
        "    if os.path.exists(train_path) and os.path.exists(test_path):\n",
        "        df_train = pd.read_csv(train_path, sep='\\t')\n",
        "        df_test = pd.read_csv(test_path, sep='\\t')\n",
        "        return df_train, df_test\n",
        "    else:\n",
        "        print(\"Error: Train file or test file not found in the specified path.\")\n",
        "        return None, None\n",
        "\n",
        "# Get the data\n",
        "df_train, df_test = get_train_test()\n",
        "\n",
        "# Verify that data is loaded before continuing\n",
        "if df_train is not None and df_test is not None:\n",
        "    \n",
        "    # Check column names\n",
        "    print(df_train.columns)\n",
        "    print(df_test.columns)\n",
        "    \n",
        "    # Assuming the dataset has a rating column, create 'is_positive'\n",
        "    if 'is_positive' not in df_train.columns:\n",
        "        df_train['is_positive'] = (df_train['rating'] >= 7).astype(int)\n",
        "        df_test['is_positive'] = (df_test['rating'] >= 7).astype(int)\n",
        "\n",
        "    # Process y_train and y_test after confirming column existence\n",
        "    y_train = np.array(df_train['is_positive'])\n",
        "    y_test = np.array(df_test['is_positive'])\n",
        "\n",
        "    print(f\"y_train.mean()={y_train.mean():.5f}\")\n",
        "    print(f\"y_test.mean()={y_test.mean():.5f}\")\n",
        "\n",
        "else:\n",
        "    print(\"Data loading failed. Please check the file paths.\")\n"
      ]
    },
    {
      "cell_type": "code",
      "execution_count": 29,
      "metadata": {
        "id": "d7FIWyNK_VS7"
      },
      "outputs": [],
      "source": [
        "from collections import Counter\n",
        "from torch.utils.data import Dataset, DataLoader\n",
        "import torch\n",
        "import torch.nn as nn"
      ]
    },
    {
      "cell_type": "code",
      "execution_count": 32,
      "metadata": {
        "id": "tCzI4Fc0_VS7"
      },
      "outputs": [
        {
          "name": "stderr",
          "output_type": "stream",
          "text": [
            "/Users/imanhamdan/my_env/lib/python3.12/site-packages/torch/nn/modules/rnn.py:123: UserWarning: dropout option adds dropout after all but last recurrent layer, so non-zero dropout expects num_layers greater than 1, but got dropout=0.5 and num_layers=1\n",
            "  warnings.warn(\n"
          ]
        },
        {
          "name": "stdout",
          "output_type": "stream",
          "text": [
            "Model initialized successfully.\n"
          ]
        }
      ],
      "source": [
        "import pandas as pd\n",
        "import os\n",
        "from collections import Counter\n",
        "import torch\n",
        "import torch.nn as nn\n",
        "import torch.optim as optim\n",
        "\n",
        "# First, load the data with the correct path\n",
        "def get_data():\n",
        "    data_path = \"/Users/imanhamdan/aai-501-group7-sentiment-analysis-drug-reviews/data/drugsComTrain_raw.tsv\"\n",
        "    \n",
        "    # Check if the file exists\n",
        "    if not os.path.exists(data_path):\n",
        "        print(f\"Error: File not found at path: {data_path}\")\n",
        "        return None\n",
        "    \n",
        "    df = pd.read_csv(data_path, sep='\\t')\n",
        "    return df\n",
        "\n",
        "# Create vocabulary function\n",
        "def create_vocabulary(texts, max_vocab_size=10000):\n",
        "    word_counts = Counter()\n",
        "    for text in texts:\n",
        "        words = str(text).lower().split()\n",
        "        word_counts.update(words)\n",
        "\n",
        "    vocab = ['<pad>', '<unk>'] + [word for word, count in word_counts.most_common(max_vocab_size - 2)]\n",
        "    word2idx = {word: idx for idx, word in enumerate(vocab)}\n",
        "    return word2idx\n",
        "\n",
        "# Define the LSTM Sentiment model\n",
        "class LSTMSentiment(nn.Module):\n",
        "    def __init__(self, vocab_size, embedding_dim, hidden_dim, n_layers, dropout):\n",
        "        super(LSTMSentiment, self).__init__()\n",
        "        \n",
        "        # Embedding layer\n",
        "        self.embedding = nn.Embedding(vocab_size, embedding_dim)\n",
        "        \n",
        "        # LSTM layer\n",
        "        self.lstm = nn.LSTM(embedding_dim, hidden_dim, n_layers, dropout=dropout, batch_first=True)\n",
        "        \n",
        "        # Fully connected output layer\n",
        "        self.fc = nn.Linear(hidden_dim, 1)\n",
        "        \n",
        "        # Dropout layer\n",
        "        self.dropout = nn.Dropout(dropout)\n",
        "        \n",
        "    def forward(self, x):\n",
        "        embedded = self.embedding(x)\n",
        "        lstm_out, _ = self.lstm(embedded)\n",
        "        # Use only the final hidden state for classification\n",
        "        out = self.fc(self.dropout(lstm_out[:, -1]))\n",
        "        return out\n",
        "\n",
        "# Load the data\n",
        "df = get_data()\n",
        "\n",
        "if df is not None:\n",
        "    # Preprocess text data\n",
        "    df['processed_review'] = df['review'].apply(lambda x: str(x).lower())\n",
        "\n",
        "    # Create vocabulary\n",
        "    word2idx = create_vocabulary(df['processed_review'])\n",
        "\n",
        "    # Now you can create your model\n",
        "    device = torch.device('cuda' if torch.cuda.is_available() else 'cpu')\n",
        "    model = LSTMSentiment(\n",
        "        vocab_size=len(word2idx),\n",
        "        embedding_dim=100,\n",
        "        hidden_dim=128,\n",
        "        n_layers=1,\n",
        "        dropout=0.5\n",
        "    ).to(device)\n",
        "\n",
        "    optimizer = torch.optim.AdamW(model.parameters(), lr=0.001, weight_decay=0.01)\n",
        "    criterion = nn.BCEWithLogitsLoss()\n",
        "\n",
        "    print(\"Model initialized successfully.\")\n",
        "\n",
        "else:\n",
        "    print(\"Data loading failed. Please check the file path.\")\n"
      ]
    },
    {
      "cell_type": "code",
      "execution_count": 33,
      "metadata": {
        "id": "eQHd_ZlE_VS7"
      },
      "outputs": [
        {
          "name": "stderr",
          "output_type": "stream",
          "text": [
            "/Users/imanhamdan/my_env/lib/python3.12/site-packages/torch/nn/modules/rnn.py:123: UserWarning: dropout option adds dropout after all but last recurrent layer, so non-zero dropout expects num_layers greater than 1, but got dropout=0.5 and num_layers=1\n",
            "  warnings.warn(\n"
          ]
        }
      ],
      "source": [
        "# Assuming you have your dataframe loaded as df\n",
        "def create_vocabulary(texts, max_vocab_size=10000):\n",
        "    word_counts = Counter()\n",
        "    for text in texts:\n",
        "        words = str(text).lower().split()\n",
        "        word_counts.update(words)\n",
        "\n",
        "    # Keep most common words\n",
        "    vocab = ['<pad>', '<unk>'] + [word for word, count in word_counts.most_common(max_vocab_size-2)]\n",
        "    word2idx = {word: idx for idx, word in enumerate(vocab)}\n",
        "    return word2idx\n",
        "\n",
        "# Preprocess your text data\n",
        "df['processed_review'] = df['review'].apply(lambda x: str(x).lower())\n",
        "\n",
        "# Create vocabulary\n",
        "word2idx = create_vocabulary(df['processed_review'])\n",
        "\n",
        "# Now you can create your model\n",
        "model = LSTMSentiment(\n",
        "    vocab_size=len(word2idx),\n",
        "    embedding_dim=100,\n",
        "    hidden_dim=128,  # Reduced from 256\n",
        "    n_layers=1,      # Reduced from 2\n",
        "    dropout=0.5\n",
        ").to(device)\n",
        "\n",
        "optimizer = torch.optim.AdamW(model.parameters(), lr=0.001, weight_decay=0.01)\n",
        "criterion = nn.BCEWithLogitsLoss()"
      ]
    },
    {
      "cell_type": "markdown",
      "metadata": {
        "id": "yHLCtroDCNfY"
      },
      "source": [
        "## Create Vocabulary\n",
        "We create a vocabulary of the most frequently used words in the dataset.\n"
      ]
    },
    {
      "cell_type": "code",
      "execution_count": 35,
      "metadata": {
        "id": "jesGa7WX_VS7"
      },
      "outputs": [
        {
          "name": "stdout",
          "output_type": "stream",
          "text": [
            "Model initialized successfully.\n"
          ]
        },
        {
          "name": "stderr",
          "output_type": "stream",
          "text": [
            "/Users/imanhamdan/my_env/lib/python3.12/site-packages/torch/nn/modules/rnn.py:123: UserWarning: dropout option adds dropout after all but last recurrent layer, so non-zero dropout expects num_layers greater than 1, but got dropout=0.5 and num_layers=1\n",
            "  warnings.warn(\n"
          ]
        }
      ],
      "source": [
        "import pandas as pd\n",
        "import os\n",
        "from collections import Counter\n",
        "import torch\n",
        "import torch.nn as nn\n",
        "\n",
        "# First, load the data with the correct path\n",
        "def get_data():\n",
        "    data_path = \"/Users/imanhamdan/aai-501-group7-sentiment-analysis-drug-reviews/data/drugsComTrain_raw.tsv\"\n",
        "    \n",
        "    # Check if the file exists\n",
        "    if not os.path.exists(data_path):\n",
        "        print(f\"Error: File not found at path: {data_path}\")\n",
        "        return None\n",
        "    \n",
        "    df = pd.read_csv(data_path, sep='\\t')\n",
        "    return df\n",
        "\n",
        "# Create vocabulary function\n",
        "def create_vocabulary(texts, max_vocab_size=10000):\n",
        "    word_counts = Counter()\n",
        "    for text in texts:\n",
        "        words = str(text).lower().split()\n",
        "        word_counts.update(words)\n",
        "\n",
        "    vocab = ['<pad>', '<unk>'] + [word for word, count in word_counts.most_common(max_vocab_size - 2)]\n",
        "    word2idx = {word: idx for idx, word in enumerate(vocab)}\n",
        "    return word2idx\n",
        "\n",
        "# Load the data\n",
        "df = get_data()\n",
        "\n",
        "if df is not None:\n",
        "    # Preprocess text data\n",
        "    df['processed_review'] = df['review'].apply(lambda x: str(x).lower())\n",
        "\n",
        "    # Create vocabulary\n",
        "    word2idx = create_vocabulary(df['processed_review'])\n",
        "\n",
        "    # Now you can create your model\n",
        "    device = torch.device('cuda' if torch.cuda.is_available() else 'cpu')\n",
        "    model = LSTMSentiment(\n",
        "        vocab_size=len(word2idx),\n",
        "        embedding_dim=100,\n",
        "        hidden_dim=128,\n",
        "        n_layers=1,\n",
        "        dropout=0.5\n",
        "    ).to(device)\n",
        "\n",
        "    optimizer = torch.optim.AdamW(model.parameters(), lr=0.001, weight_decay=0.01)\n",
        "    criterion = nn.BCEWithLogitsLoss()\n",
        "\n",
        "    print(\"Model initialized successfully.\")\n",
        "\n",
        "else:\n",
        "    print(\"Data loading failed. Please check the file path.\")\n"
      ]
    },
    {
      "cell_type": "markdown",
      "metadata": {
        "id": "3mRfA1LGCGKq"
      },
      "source": [
        "## LSTM Model Definition\n",
        "Define the LSTM model that will be used for sentiment classification.\n"
      ]
    },
    {
      "cell_type": "code",
      "execution_count": 47,
      "metadata": {
        "id": "O7Fzi6hi_VS7",
        "outputId": "5574c49d-d789-4101-df4a-51b49fd7b306"
      },
      "outputs": [
        {
          "name": "stderr",
          "output_type": "stream",
          "text": [
            "/var/folders/9d/8ldx6syj5ms3xms5s9mybtkc0000gn/T/ipykernel_56121/1914289870.py:67: UserWarning: To copy construct from a tensor, it is recommended to use sourceTensor.clone().detach() or sourceTensor.clone().detach().requires_grad_(True), rather than torch.tensor(sourceTensor).\n",
            "  reviews = [torch.tensor(item['review'], dtype=torch.long) for item in batch]\n"
          ]
        },
        {
          "name": "stdout",
          "output_type": "stream",
          "text": [
            "Epoch 1:\n",
            "Train Loss: 0.5243 | Train Acc: 71.67%\n",
            "Valid Loss: 0.4178 | Valid Acc: 81.95%\n",
            "Epoch 2:\n",
            "Train Loss: 0.4221 | Train Acc: 79.76%\n",
            "Valid Loss: 0.3771 | Valid Acc: 83.49%\n",
            "Epoch 3:\n",
            "Train Loss: 0.3842 | Train Acc: 81.96%\n",
            "Valid Loss: 0.3528 | Valid Acc: 84.62%\n",
            "Epoch 4:\n",
            "Train Loss: 0.3593 | Train Acc: 83.42%\n",
            "Valid Loss: 0.3435 | Valid Acc: 85.03%\n",
            "Epoch 5:\n",
            "Train Loss: 0.3389 | Train Acc: 84.71%\n",
            "Valid Loss: 0.3317 | Valid Acc: 85.91%\n",
            "Epoch 6:\n",
            "Train Loss: 0.3261 | Train Acc: 85.43%\n",
            "Valid Loss: 0.3602 | Valid Acc: 86.07%\n",
            "Epoch 7:\n",
            "Train Loss: 0.3124 | Train Acc: 86.19%\n",
            "Valid Loss: 0.3276 | Valid Acc: 86.78%\n",
            "Epoch 8:\n",
            "Train Loss: 0.2984 | Train Acc: 86.92%\n",
            "Valid Loss: 0.3454 | Valid Acc: 86.98%\n",
            "Epoch 9:\n",
            "Train Loss: 0.2869 | Train Acc: 87.57%\n",
            "Valid Loss: 0.3227 | Valid Acc: 87.66%\n",
            "Epoch 10:\n",
            "Train Loss: 0.2768 | Train Acc: 88.11%\n",
            "Valid Loss: 0.3210 | Valid Acc: 88.08%\n"
          ]
        }
      ],
      "source": [
        "import torch\n",
        "import torch.nn as nn\n",
        "from torch.utils.data import Dataset, DataLoader\n",
        "import torch.nn.utils.rnn as rnn_utils\n",
        "import numpy as np\n",
        "from collections import Counter\n",
        "import os\n",
        "import pandas as pd\n",
        "from sklearn.model_selection import train_test_split\n",
        "\n",
        "# Define your LSTMSentiment model\n",
        "class LSTMSentiment(nn.Module):\n",
        "    def __init__(self, vocab_size, embedding_dim=100, hidden_dim=128, n_layers=1, dropout=0.5):\n",
        "        super().__init__()\n",
        "        self.embedding = nn.Embedding(vocab_size, embedding_dim, padding_idx=0)\n",
        "        self.lstm = nn.LSTM(embedding_dim, hidden_dim, n_layers,\n",
        "                            bidirectional=True, dropout=dropout if n_layers > 1 else 0, batch_first=True)\n",
        "        self.dropout = nn.Dropout(dropout)\n",
        "        self.batch_norm = nn.BatchNorm1d(hidden_dim * 2)\n",
        "        self.fc = nn.Linear(hidden_dim * 2, 1)\n",
        "\n",
        "    def forward(self, text):\n",
        "        embedded = self.dropout(self.embedding(text))\n",
        "        output, (hidden, cell) = self.lstm(embedded)\n",
        "        output = torch.mean(output, dim=1)\n",
        "        output = self.batch_norm(output)\n",
        "        output = self.dropout(output)\n",
        "        return self.fc(output)\n",
        "\n",
        "# Early stopping class to prevent overfitting\n",
        "class EarlyStopping:\n",
        "    def __init__(self, patience=3, min_delta=0):\n",
        "        self.patience = patience\n",
        "        self.min_delta = min_delta\n",
        "        self.counter = 0\n",
        "        self.best_loss = None\n",
        "        self.early_stop = False\n",
        "\n",
        "    def __call__(self, val_loss):\n",
        "        if self.best_loss is None:\n",
        "            self.best_loss = val_loss\n",
        "        elif val_loss > self.best_loss - self.min_delta:\n",
        "            self.counter += 1\n",
        "            if self.counter >= self.patience:\n",
        "                self.early_stop = True\n",
        "        else:\n",
        "            self.best_loss = val_loss\n",
        "            self.counter = 0\n",
        "\n",
        "# Dataset class to hold the reviews and ratings\n",
        "class DrugReviewDataset(Dataset):\n",
        "    def __init__(self, reviews, ratings):\n",
        "        self.reviews = reviews\n",
        "        self.ratings = ratings\n",
        "\n",
        "    def __len__(self):\n",
        "        return len(self.reviews)\n",
        "\n",
        "    def __getitem__(self, idx):\n",
        "        return {\n",
        "            'review': torch.tensor(self.reviews[idx], dtype=torch.long),\n",
        "            'rating': torch.tensor(self.ratings[idx], dtype=torch.float)\n",
        "        }\n",
        "\n",
        "# Custom collate function for DataLoader to pad sequences\n",
        "def collate_fn(batch):\n",
        "    reviews = [torch.tensor(item['review'], dtype=torch.long) for item in batch]\n",
        "    ratings = torch.tensor([item['rating'] for item in batch], dtype=torch.float)\n",
        "\n",
        "    padded_reviews = rnn_utils.pad_sequence(reviews, batch_first=True, padding_value=0)\n",
        "    return {\n",
        "        'review': padded_reviews,\n",
        "        'rating': ratings\n",
        "    }\n",
        "\n",
        "# Load the data\n",
        "def get_data():\n",
        "    data_path_train = \"/Users/imanhamdan/aai-501-group7-sentiment-analysis-drug-reviews/data/drugsComTrain_raw.tsv\"\n",
        "    df_train = pd.read_csv(data_path_train, sep='\\t')\n",
        "    return df_train\n",
        "\n",
        "df_train = get_data()\n",
        "\n",
        "# Preprocess text data and create vocabulary\n",
        "def clean_text(text):\n",
        "    return str(text).lower()\n",
        "\n",
        "df_train['processed_review'] = df_train['review'].apply(clean_text)\n",
        "\n",
        "word_counts = Counter()\n",
        "for text in df_train['processed_review']:\n",
        "    word_counts.update(str(text).split())\n",
        "\n",
        "max_vocab_size = 10000\n",
        "vocab = ['<pad>', '<unk>'] + [word for word, count in word_counts.most_common(max_vocab_size-2)]\n",
        "word2idx = {word: idx for idx, word in enumerate(vocab)}\n",
        "\n",
        "# Convert reviews to sequences of indices\n",
        "word_list_train = []\n",
        "for line in df_train['processed_review']:\n",
        "    line_tokens = [word2idx.get(word, word2idx['<unk>']) for word in line.split()]\n",
        "    word_list_train.append(line_tokens)\n",
        "\n",
        "# Prepare labels\n",
        "y_train = df_train['rating'].apply(lambda x: 1 if x >= 7 else 0).values\n",
        "\n",
        "# Ensure that the length of reviews and labels match\n",
        "assert len(word_list_train) == len(y_train), \"Training reviews and labels are not of the same length.\"\n",
        "\n",
        "# Split into training and validation sets\n",
        "word_list_train, word_list_valid, y_train, y_valid = train_test_split(word_list_train, y_train, test_size=0.2, random_state=42)\n",
        "\n",
        "# Create datasets and dataloaders\n",
        "train_dataset = DrugReviewDataset(word_list_train, y_train)\n",
        "valid_dataset = DrugReviewDataset(word_list_valid, y_valid)\n",
        "\n",
        "train_loader = DataLoader(train_dataset, batch_size=32, shuffle=True, collate_fn=collate_fn)\n",
        "valid_loader = DataLoader(valid_dataset, batch_size=32, shuffle=False, collate_fn=collate_fn)\n",
        "\n",
        "# Define model, optimizer, and loss function\n",
        "device = torch.device('cuda' if torch.cuda.is_available() else 'cpu')\n",
        "\n",
        "model = LSTMSentiment(\n",
        "    vocab_size=len(word2idx),\n",
        "    embedding_dim=100,\n",
        "    hidden_dim=128,\n",
        "    n_layers=1,\n",
        "    dropout=0.5\n",
        ").to(device)\n",
        "\n",
        "optimizer = torch.optim.AdamW(model.parameters(), lr=0.001, weight_decay=0.01)\n",
        "criterion = nn.BCEWithLogitsLoss()\n",
        "\n",
        "# Training function\n",
        "def train_model(model, train_loader, valid_loader, criterion, optimizer, n_epochs, device):\n",
        "    early_stopping = EarlyStopping(patience=3)\n",
        "\n",
        "    for epoch in range(n_epochs):\n",
        "        # Training phase\n",
        "        model.train()\n",
        "        total_train_loss = 0\n",
        "        train_correct = 0\n",
        "        train_total = 0\n",
        "\n",
        "        for batch in train_loader:\n",
        "            reviews = batch['review'].to(device)\n",
        "            ratings = batch['rating'].to(device)\n",
        "\n",
        "            optimizer.zero_grad()\n",
        "            outputs = model(reviews).squeeze()\n",
        "            loss = criterion(outputs, ratings)\n",
        "            loss.backward()\n",
        "\n",
        "            torch.nn.utils.clip_grad_norm_(model.parameters(), max_norm=1)\n",
        "            optimizer.step()\n",
        "\n",
        "            total_train_loss += loss.item()\n",
        "            predicted = (outputs > 0.5).float()\n",
        "            train_correct += (predicted == ratings).sum().item()\n",
        "            train_total += ratings.size(0)\n",
        "\n",
        "        # Validation phase\n",
        "        model.eval()\n",
        "        total_valid_loss = 0\n",
        "        valid_correct = 0\n",
        "        valid_total = 0\n",
        "\n",
        "        with torch.no_grad():\n",
        "            for batch in valid_loader:\n",
        "                reviews = batch['review'].to(device)\n",
        "                ratings = batch['rating'].to(device)\n",
        "\n",
        "                outputs = model(reviews).squeeze()\n",
        "                loss = criterion(outputs, ratings)\n",
        "\n",
        "                total_valid_loss += loss.item()\n",
        "                predicted = (outputs > 0.5).float()\n",
        "                valid_correct += (predicted == ratings).sum().item()\n",
        "                valid_total += ratings.size(0)\n",
        "\n",
        "        avg_train_loss = total_train_loss / len(train_loader)\n",
        "        avg_valid_loss = total_valid_loss / len(valid_loader)\n",
        "        train_acc = train_correct / train_total * 100\n",
        "        valid_acc = valid_correct / valid_total * 100\n",
        "\n",
        "        print(f'Epoch {epoch+1}:')\n",
        "        print(f'Train Loss: {avg_train_loss:.4f} | Train Acc: {train_acc:.2f}%')\n",
        "        print(f'Valid Loss: {avg_valid_loss:.4f} | Valid Acc: {valid_acc:.2f}%')\n",
        "\n",
        "        # Early stopping\n",
        "        early_stopping(avg_valid_loss)\n",
        "        if early_stopping.early_stop:\n",
        "            print(\"Early stopping triggered\")\n",
        "            break\n",
        "\n",
        "# Train the model\n",
        "train_model(model, train_loader, valid_loader, criterion, optimizer, n_epochs=10, device=device)\n"
      ]
    },
    {
      "cell_type": "markdown",
      "metadata": {
        "id": "-ODrDRvgDj_G"
      },
      "source": [
        "## Training the LSTM Model\n",
        "Train the LSTM model using the training dataset and validate it.\n"
      ]
    },
    {
      "cell_type": "markdown",
      "metadata": {
        "id": "RdBJyemCDpqp"
      },
      "source": [
        "## Model Evaluation and Results\n",
        "Evaluate the model's performance and visualize training and validation accuracy and loss.\n"
      ]
    },
    {
      "cell_type": "code",
      "execution_count": 48,
      "metadata": {
        "id": "_XSVAiRP_VS8",
        "outputId": "b66c84ea-09eb-410c-c243-bb3b5c040916"
      },
      "outputs": [
        {
          "name": "stderr",
          "output_type": "stream",
          "text": [
            "/var/folders/9d/8ldx6syj5ms3xms5s9mybtkc0000gn/T/ipykernel_56121/1914289870.py:67: UserWarning: To copy construct from a tensor, it is recommended to use sourceTensor.clone().detach() or sourceTensor.clone().detach().requires_grad_(True), rather than torch.tensor(sourceTensor).\n",
            "  reviews = [torch.tensor(item['review'], dtype=torch.long) for item in batch]\n"
          ]
        },
        {
          "name": "stdout",
          "output_type": "stream",
          "text": [
            "Epoch 1, Train Loss: 0.2672, Validation Loss: 0.3190, Validation Accuracy: 87.73%\n",
            "Epoch 2, Train Loss: 0.2588, Validation Loss: 0.2963, Validation Accuracy: 88.34%\n",
            "Epoch 3, Train Loss: 0.2492, Validation Loss: 0.3045, Validation Accuracy: 88.33%\n",
            "Epoch 4, Train Loss: 0.2395, Validation Loss: 0.2955, Validation Accuracy: 88.83%\n",
            "Epoch 5, Train Loss: 0.2314, Validation Loss: 0.3058, Validation Accuracy: 88.80%\n",
            "Epoch 6, Train Loss: 0.2230, Validation Loss: 0.2893, Validation Accuracy: 89.13%\n",
            "Epoch 7, Train Loss: 0.2154, Validation Loss: 0.2881, Validation Accuracy: 89.08%\n",
            "Epoch 8, Train Loss: 0.2065, Validation Loss: 0.2987, Validation Accuracy: 89.79%\n",
            "Epoch 9, Train Loss: 0.1980, Validation Loss: 0.2864, Validation Accuracy: 89.90%\n",
            "Epoch 10, Train Loss: 0.1898, Validation Loss: 0.2940, Validation Accuracy: 89.54%\n"
          ]
        }
      ],
      "source": [
        "import torch\n",
        "import torch.nn as nn\n",
        "from torch.utils.data import DataLoader\n",
        "\n",
        "# Training function with early stopping\n",
        "def train_model(model, train_loader, valid_loader, criterion, optimizer, n_epochs, device, patience=2):\n",
        "    best_val_acc = 0\n",
        "    patience_counter = 0\n",
        "\n",
        "    for epoch in range(n_epochs):\n",
        "        # Training phase\n",
        "        model.train()\n",
        "        total_train_loss = 0\n",
        "        for batch in train_loader:\n",
        "            reviews = batch['review'].to(device)\n",
        "            labels = batch['rating'].to(device)\n",
        "\n",
        "            optimizer.zero_grad()\n",
        "            outputs = model(reviews).squeeze()\n",
        "            loss = criterion(outputs, labels)\n",
        "            loss.backward()\n",
        "            optimizer.step()\n",
        "            total_train_loss += loss.item()\n",
        "\n",
        "        avg_train_loss = total_train_loss / len(train_loader)\n",
        "\n",
        "        # Validation phase\n",
        "        model.eval()\n",
        "        total_val_loss = 0\n",
        "        correct_predictions = 0\n",
        "        total_predictions = 0\n",
        "\n",
        "        with torch.no_grad():\n",
        "            for batch in valid_loader:\n",
        "                reviews = batch['review'].to(device)\n",
        "                labels = batch['rating'].to(device)\n",
        "\n",
        "                outputs = model(reviews).squeeze()\n",
        "                loss = criterion(outputs, labels)\n",
        "                total_val_loss += loss.item()\n",
        "\n",
        "                predictions = (torch.sigmoid(outputs) > 0.5).float()\n",
        "                correct_predictions += (predictions == labels).sum().item()\n",
        "                total_predictions += labels.size(0)\n",
        "\n",
        "        avg_val_loss = total_val_loss / len(valid_loader)\n",
        "        val_accuracy = correct_predictions / total_predictions * 100\n",
        "\n",
        "        print(f'Epoch {epoch+1}, Train Loss: {avg_train_loss:.4f}, Validation Loss: {avg_val_loss:.4f}, Validation Accuracy: {val_accuracy:.2f}%')\n",
        "\n",
        "        # Early stopping logic\n",
        "        if val_accuracy > best_val_acc:\n",
        "            best_val_acc = val_accuracy\n",
        "            patience_counter = 0  # Reset the counter if we get a new best accuracy\n",
        "        else:\n",
        "            patience_counter += 1\n",
        "\n",
        "        if patience_counter >= patience:\n",
        "            print(f'Early stopping at epoch {epoch+1}. Best Validation Accuracy: {best_val_acc:.2f}%')\n",
        "            break\n",
        "\n",
        "# Set device\n",
        "device = torch.device('cuda' if torch.cuda.is_available() else 'cpu')\n",
        "\n",
        "# Train the model with early stopping\n",
        "train_model(model, train_loader, valid_loader, criterion, optimizer, n_epochs=10, device=device, patience=2)\n"
      ]
    },
    {
      "cell_type": "code",
      "execution_count": 49,
      "metadata": {
        "id": "SNHbu2_V_VS8",
        "outputId": "6d3f7a69-0bc0-40e0-b8d9-a484bafcc97c"
      },
      "outputs": [
        {
          "name": "stderr",
          "output_type": "stream",
          "text": [
            "/Users/imanhamdan/my_env/lib/python3.12/site-packages/torch/optim/lr_scheduler.py:62: UserWarning: The verbose parameter is deprecated. Please use get_last_lr() to access the learning rate.\n",
            "  warnings.warn(\n",
            "/var/folders/9d/8ldx6syj5ms3xms5s9mybtkc0000gn/T/ipykernel_56121/1914289870.py:67: UserWarning: To copy construct from a tensor, it is recommended to use sourceTensor.clone().detach() or sourceTensor.clone().detach().requires_grad_(True), rather than torch.tensor(sourceTensor).\n",
            "  reviews = [torch.tensor(item['review'], dtype=torch.long) for item in batch]\n"
          ]
        },
        {
          "name": "stdout",
          "output_type": "stream",
          "text": [
            "Epoch 1:\n",
            "Train Loss: 4.3475 | Train Acc: 59.75%\n",
            "Valid Loss: 0.5395 | Valid Acc: 72.88%\n",
            "Epoch 2:\n",
            "Train Loss: 1.2183 | Train Acc: 69.83%\n",
            "Valid Loss: 0.5128 | Valid Acc: 74.71%\n",
            "Epoch 3:\n",
            "Train Loss: 0.8118 | Train Acc: 72.01%\n",
            "Valid Loss: 0.4929 | Valid Acc: 77.84%\n",
            "Epoch 4:\n",
            "Train Loss: 0.6894 | Train Acc: 74.79%\n",
            "Valid Loss: 0.4598 | Valid Acc: 77.36%\n",
            "Epoch 5:\n",
            "Train Loss: 0.6426 | Train Acc: 76.80%\n",
            "Valid Loss: 0.4388 | Valid Acc: 80.82%\n",
            "Epoch 6:\n",
            "Train Loss: 0.6232 | Train Acc: 77.82%\n",
            "Valid Loss: 0.4285 | Valid Acc: 79.78%\n",
            "Epoch 7:\n",
            "Train Loss: 0.6195 | Train Acc: 78.12%\n",
            "Valid Loss: 0.6426 | Valid Acc: 73.05%\n",
            "Epoch 8:\n",
            "Train Loss: 0.6190 | Train Acc: 78.17%\n",
            "Valid Loss: 0.5022 | Valid Acc: 66.77%\n",
            "Epoch 9:\n",
            "Train Loss: 0.6203 | Train Acc: 78.32%\n",
            "Valid Loss: 0.4244 | Valid Acc: 80.91%\n",
            "Epoch 10:\n",
            "Train Loss: 0.6204 | Train Acc: 78.25%\n",
            "Valid Loss: 0.5099 | Valid Acc: 66.43%\n",
            "Epoch 11:\n",
            "Train Loss: 0.6208 | Train Acc: 78.18%\n",
            "Valid Loss: 0.6440 | Valid Acc: 74.09%\n",
            "Epoch 12:\n",
            "Train Loss: 0.6213 | Train Acc: 78.23%\n",
            "Valid Loss: 0.4429 | Valid Acc: 81.37%\n",
            "Epoch 13:\n",
            "Train Loss: 0.5978 | Train Acc: 78.85%\n",
            "Valid Loss: 0.4618 | Valid Acc: 80.28%\n",
            "Epoch 14:\n",
            "Train Loss: 0.5851 | Train Acc: 79.12%\n",
            "Valid Loss: 0.4189 | Valid Acc: 79.55%\n",
            "Epoch 15:\n",
            "Train Loss: 0.5801 | Train Acc: 79.22%\n",
            "Valid Loss: 0.4341 | Valid Acc: 78.24%\n"
          ]
        },
        {
          "data": {
            "image/png": "[encoded data removed]",
            "text/plain": [
              "<Figure size 1200x400 with 2 Axes>"
            ]
          },
          "metadata": {},
          "output_type": "display_data"
        }
      ],
      "source": [
        "class LSTMSentiment(nn.Module):\n",
        "    def __init__(self, vocab_size, embedding_dim=50, hidden_dim=64, n_layers=1, dropout=0.7):\n",
        "        super().__init__()\n",
        "\n",
        "        # Reduced embedding dimension further\n",
        "        self.embedding = nn.Embedding(vocab_size, embedding_dim, padding_idx=0)\n",
        "\n",
        "        # Simpler LSTM architecture with higher dropout\n",
        "        self.lstm = nn.LSTM(embedding_dim,\n",
        "                           hidden_dim,\n",
        "                           n_layers,\n",
        "                           bidirectional=True,\n",
        "                           dropout=dropout if n_layers > 1 else 0,\n",
        "                           batch_first=True)\n",
        "\n",
        "        # Increased dropout even more\n",
        "        self.dropout = nn.Dropout(dropout)\n",
        "\n",
        "        # Added batch normalization\n",
        "        self.batch_norm = nn.BatchNorm1d(hidden_dim * 2)\n",
        "\n",
        "        # Output layer with L2 regularization\n",
        "        self.fc = nn.Linear(hidden_dim * 2, 1)\n",
        "\n",
        "    def forward(self, text):\n",
        "        # Apply higher dropout to embeddings\n",
        "        embedded = self.dropout(self.embedding(text))\n",
        "\n",
        "        output, (hidden, cell) = self.lstm(embedded)\n",
        "\n",
        "        # Global average pooling\n",
        "        output = torch.mean(output, dim=1)\n",
        "\n",
        "        # Stronger regularization\n",
        "        output = self.batch_norm(output)\n",
        "        output = self.dropout(output)\n",
        "\n",
        "        return self.fc(output)\n",
        "\n",
        "# Modified training parameters\n",
        "model = LSTMSentiment(\n",
        "    vocab_size=len(word2idx),\n",
        "    embedding_dim=50,      # Reduced from 100\n",
        "    hidden_dim=64,        # Reduced from 128\n",
        "    n_layers=1,\n",
        "    dropout=0.7          # Increased from 0.5\n",
        ").to(device)\n",
        "\n",
        "# Modified optimizer with stronger regularization\n",
        "optimizer = torch.optim.AdamW(\n",
        "    model.parameters(),\n",
        "    lr=0.0005,           # Reduced learning rate\n",
        "    weight_decay=0.1     # Increased weight decay\n",
        ")\n",
        "\n",
        "# Add learning rate scheduler\n",
        "scheduler = torch.optim.lr_scheduler.ReduceLROnPlateau(\n",
        "    optimizer,\n",
        "    mode='min',\n",
        "    factor=0.5,\n",
        "    patience=2,\n",
        "    verbose=True\n",
        ")\n",
        "\n",
        "# Modify training function to include scheduler\n",
        "def train_model(model, train_loader, valid_loader, criterion, optimizer, scheduler, n_epochs, device):\n",
        "    train_losses = []\n",
        "    valid_losses = []\n",
        "    train_accs = []\n",
        "    valid_accs = []\n",
        "\n",
        "    early_stopping = EarlyStopping(patience=5, min_delta=0.001)\n",
        "\n",
        "    for epoch in range(n_epochs):\n",
        "        model.train()\n",
        "        total_train_loss = 0\n",
        "        train_correct = 0\n",
        "        train_total = 0\n",
        "\n",
        "        for batch in train_loader:\n",
        "            reviews = batch['review'].to(device)\n",
        "            ratings = batch['rating'].to(device)\n",
        "\n",
        "            optimizer.zero_grad()\n",
        "\n",
        "            outputs = model(reviews).squeeze()\n",
        "            loss = criterion(outputs, ratings)\n",
        "\n",
        "            # Stronger L2 regularization\n",
        "            l2_lambda = 0.01\n",
        "            l2_reg = torch.tensor(0.).to(device)\n",
        "            for param in model.parameters():\n",
        "                l2_reg += torch.norm(param)\n",
        "            loss += l2_lambda * l2_reg\n",
        "\n",
        "            loss.backward()\n",
        "\n",
        "            # Stronger gradient clipping\n",
        "            torch.nn.utils.clip_grad_norm_(model.parameters(), max_norm=0.5)\n",
        "\n",
        "            optimizer.step()\n",
        "\n",
        "            total_train_loss += loss.item()\n",
        "            predicted = (outputs > 0.5).float()\n",
        "            train_correct += (predicted == ratings).sum().item()\n",
        "            train_total += ratings.size(0)\n",
        "\n",
        "        model.eval()\n",
        "        total_valid_loss = 0\n",
        "        valid_correct = 0\n",
        "        valid_total = 0\n",
        "\n",
        "        with torch.no_grad():\n",
        "            for batch in valid_loader:\n",
        "                reviews = batch['review'].to(device)\n",
        "                ratings = batch['rating'].to(device)\n",
        "\n",
        "                outputs = model(reviews).squeeze()\n",
        "                loss = criterion(outputs, ratings)\n",
        "                total_valid_loss += loss.item()\n",
        "\n",
        "                predicted = (outputs > 0.5).float()\n",
        "                valid_correct += (predicted == ratings).sum().item()\n",
        "                valid_total += ratings.size(0)\n",
        "\n",
        "        avg_train_loss = total_train_loss / len(train_loader)\n",
        "        avg_valid_loss = total_valid_loss / len(valid_loader)\n",
        "        train_acc = train_correct / train_total * 100\n",
        "        valid_acc = valid_correct / valid_total * 100\n",
        "\n",
        "        # Step the scheduler\n",
        "        scheduler.step(avg_valid_loss)\n",
        "\n",
        "        train_losses.append(avg_train_loss)\n",
        "        valid_losses.append(avg_valid_loss)\n",
        "        train_accs.append(train_acc)\n",
        "        valid_accs.append(valid_acc)\n",
        "\n",
        "        print(f'Epoch {epoch+1}:')\n",
        "        print(f'Train Loss: {avg_train_loss:.4f} | Train Acc: {train_acc:.2f}%')\n",
        "        print(f'Valid Loss: {avg_valid_loss:.4f} | Valid Acc: {valid_acc:.2f}%')\n",
        "\n",
        "        early_stopping(avg_valid_loss)\n",
        "        if early_stopping.early_stop:\n",
        "            print(\"Early stopping triggered\")\n",
        "            break\n",
        "\n",
        "    # Plot results\n",
        "    plt.figure(figsize=(12, 4))\n",
        "\n",
        "    plt.subplot(1, 2, 1)\n",
        "    plt.plot(train_accs, label='Train Acc')\n",
        "    plt.plot(valid_accs, label='Validation Acc')\n",
        "    plt.title('Accuracy')\n",
        "    plt.legend()\n",
        "\n",
        "    plt.subplot(1, 2, 2)\n",
        "    plt.plot(train_losses, label='Train loss')\n",
        "    plt.plot(valid_losses, label='Validation loss')\n",
        "    plt.title('Loss')\n",
        "    plt.legend()\n",
        "\n",
        "    plt.tight_layout()\n",
        "    plt.show()\n",
        "\n",
        "# Train with modified parameters\n",
        "train_model(model, train_loader, valid_loader, criterion, optimizer, scheduler, n_epochs=15, device=device)"
      ]
    },
    {
      "cell_type": "code",
      "execution_count": 50,
      "metadata": {
        "id": "Rh3DldQL_VS9",
        "outputId": "2478a8f4-1ade-4259-a697-d00999b25807"
      },
      "outputs": [
        {
          "name": "stderr",
          "output_type": "stream",
          "text": [
            "python(62493) MallocStackLogging: can't turn off malloc stack logging because it was not enabled.\n"
          ]
        },
        {
          "name": "stdout",
          "output_type": "stream",
          "text": [
            "Requirement already satisfied: transformers in /Users/imanhamdan/my_env/lib/python3.12/site-packages (4.46.3)\n",
            "Requirement already satisfied: filelock in /Users/imanhamdan/my_env/lib/python3.12/site-packages (from transformers) (3.16.1)\n",
            "Requirement already satisfied: huggingface-hub<1.0,>=0.23.2 in /Users/imanhamdan/my_env/lib/python3.12/site-packages (from transformers) (0.26.2)\n",
            "Requirement already satisfied: numpy>=1.17 in /Users/imanhamdan/my_env/lib/python3.12/site-packages (from transformers) (2.0.2)\n",
            "Requirement already satisfied: packaging>=20.0 in /Users/imanhamdan/my_env/lib/python3.12/site-packages (from transformers) (24.1)\n",
            "Requirement already satisfied: pyyaml>=5.1 in /Users/imanhamdan/my_env/lib/python3.12/site-packages (from transformers) (6.0.2)\n",
            "Requirement already satisfied: regex!=2019.12.17 in /Users/imanhamdan/my_env/lib/python3.12/site-packages (from transformers) (2024.11.6)\n",
            "Requirement already satisfied: requests in /Users/imanhamdan/my_env/lib/python3.12/site-packages (from transformers) (2.32.3)\n",
            "Requirement already satisfied: tokenizers<0.21,>=0.20 in /Users/imanhamdan/my_env/lib/python3.12/site-packages (from transformers) (0.20.3)\n",
            "Requirement already satisfied: safetensors>=0.4.1 in /Users/imanhamdan/my_env/lib/python3.12/site-packages (from transformers) (0.4.5)\n",
            "Requirement already satisfied: tqdm>=4.27 in /Users/imanhamdan/my_env/lib/python3.12/site-packages (from transformers) (4.67.0)\n",
            "Requirement already satisfied: fsspec>=2023.5.0 in /Users/imanhamdan/my_env/lib/python3.12/site-packages (from huggingface-hub<1.0,>=0.23.2->transformers) (2024.10.0)\n",
            "Requirement already satisfied: typing-extensions>=3.7.4.3 in /Users/imanhamdan/my_env/lib/python3.12/site-packages (from huggingface-hub<1.0,>=0.23.2->transformers) (4.12.2)\n",
            "Requirement already satisfied: charset-normalizer<4,>=2 in /Users/imanhamdan/my_env/lib/python3.12/site-packages (from requests->transformers) (3.4.0)\n",
            "Requirement already satisfied: idna<4,>=2.5 in /Users/imanhamdan/my_env/lib/python3.12/site-packages (from requests->transformers) (3.10)\n",
            "Requirement already satisfied: urllib3<3,>=1.21.1 in /Users/imanhamdan/my_env/lib/python3.12/site-packages (from requests->transformers) (2.2.3)\n",
            "Requirement already satisfied: certifi>=2017.4.17 in /Users/imanhamdan/my_env/lib/python3.12/site-packages (from requests->transformers) (2024.8.30)\n",
            "\n",
            "\u001b[1m[\u001b[0m\u001b[34;49mnotice\u001b[0m\u001b[1;39;49m]\u001b[0m\u001b[39;49m A new release of pip is available: \u001b[0m\u001b[31;49m24.0\u001b[0m\u001b[39;49m -> \u001b[0m\u001b[32;49m24.3.1\u001b[0m\n",
            "\u001b[1m[\u001b[0m\u001b[34;49mnotice\u001b[0m\u001b[1;39;49m]\u001b[0m\u001b[39;49m To update, run: \u001b[0m\u001b[32;49mpip install --upgrade pip\u001b[0m\n",
            "Note: you may need to restart the kernel to use updated packages.\n"
          ]
        }
      ],
      "source": [
        "pip install transformers"
      ]
    },
    {
      "cell_type": "code",
      "execution_count": 51,
      "metadata": {
        "id": "aE2QhjMj_VS9",
        "outputId": "79437b08-6359-47ee-de93-f0fd471d61ff"
      },
      "outputs": [
        {
          "name": "stderr",
          "output_type": "stream",
          "text": [
            "/Users/imanhamdan/my_env/lib/python3.12/site-packages/tqdm/auto.py:21: TqdmWarning: IProgress not found. Please update jupyter and ipywidgets. See https://ipywidgets.readthedocs.io/en/stable/user_install.html\n",
            "  from .autonotebook import tqdm as notebook_tqdm\n"
          ]
        }
      ],
      "source": [
        "import pandas as pd\n",
        "import torch\n",
        "from torch.utils.data import Dataset, DataLoader\n",
        "from transformers import BertTokenizer\n",
        "\n",
        "class DrugReviewDataset(Dataset):\n",
        "   def __init__(self, data_path, tokenizer, max_length=128):\n",
        "       # Load CSV data\n",
        "       self.data = pd.read_csv(data_path)\n",
        "       self.tokenizer = tokenizer\n",
        "       self.max_length = max_length\n",
        "\n",
        "   def __len__(self):\n",
        "       return len(self.data)\n",
        "\n",
        "   def __getitem__(self, idx):\n",
        "       review = str(self.data.iloc[idx]['review'])\n",
        "       rating = self.data.iloc[idx]['rating'] # Assuming 'rating' is your target\n",
        "\n",
        "       # Convert rating to sentiment (example: >7 is positive)\n",
        "       sentiment = 1 if rating > 7 else 0\n",
        "\n",
        "       encoding = self.tokenizer.encode_plus(\n",
        "           review,\n",
        "           add_special_tokens=True,\n",
        "           max_length=self.max_length,\n",
        "           padding='max_length',\n",
        "           truncation=True,\n",
        "           return_tensors='pt'\n",
        "       )\n",
        "\n",
        "       return {\n",
        "           'input_ids': encoding['input_ids'].flatten(),\n",
        "           'attention_mask': encoding['attention_mask'].flatten(),\n",
        "           'labels': torch.tensor(sentiment, dtype=torch.long)\n",
        "       }\n",
        "\n",
        "# Initialize tokenizer\n",
        "tokenizer = BertTokenizer.from_pretrained('bert-base-uncased')\n",
        "\n",
        "# Create datasets\n",
        "train_dataset = DrugReviewDataset(\n",
        "   '/Users/imanhamdan/aai-501-group7-sentiment-analysis-drug-reviews/data/drugsComTrain_cleaned.csv',\n",
        "   tokenizer\n",
        ")\n",
        "\n",
        "test_dataset = DrugReviewDataset(\n",
        "   '/Users/imanhamdan/aai-501-group7-sentiment-analysis-drug-reviews/data/drugsComTest_cleaned.csv',\n",
        "   tokenizer\n",
        ")\n",
        "\n",
        "# Create dataloaders\n",
        "train_loader = DataLoader(train_dataset, batch_size=32, shuffle=True)\n",
        "test_loader = DataLoader(test_dataset, batch_size=32)"
      ]
    },
    {
      "cell_type": "markdown",
      "metadata": {
        "id": "lxlkG_neD5fe"
      },
      "source": [
        "## Conclusion\n",
        "The LSTM model was successfully trained on drug review sentiment data, achieving reasonable accuracy. Future work could involve experimenting with different architectures and tuning hyperparameters for improved results.\n"
      ]
    }
  ],
  "metadata": {
    "colab": {
      "provenance": []
    },
    "kernelspec": {
      "display_name": "my_env",
      "language": "python",
      "name": "my_env"
    },
    "language_info": {
      "codemirror_mode": {
        "name": "ipython",
        "version": 3
      },
      "file_extension": ".py",
      "mimetype": "text/x-python",
      "name": "python",
      "nbconvert_exporter": "python",
      "pygments_lexer": "ipython3",
      "version": "3.12.4"
    }
  },
  "nbformat": 4,
  "nbformat_minor": 0
}
